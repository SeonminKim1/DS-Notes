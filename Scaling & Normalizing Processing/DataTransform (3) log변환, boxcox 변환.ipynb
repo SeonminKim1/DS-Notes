{
 "cells": [
  {
   "cell_type": "markdown",
   "metadata": {},
   "source": [
    "## ■ 첨도와, 왜도\n",
    "### 왜도\n",
    "- 왜도(비대칭도)란, 확률변수의 확률분포가 비대칭성을 가지고 있음을 뜻한다. \n",
    "- 영어로는 Skewness라고 하며 a=0이면 정규분포, a<0이면 오른쪽으로 치우침, a>0이면 왼쪽으로 치우침을 의미한다.\n",
    "\n",
    "### 첨도\n",
    "- 첨도란, 확률분포의 뾰족한 정도를 뜻한다. \n",
    "- 영어로는 Kurtosis라고 하며 a=3이면 정규분포, a<3이면 정규분포보다 완만함, a>3이면 정규분포 보다 뾰족함을 의미한다.\n",
    "\n",
    "\n",
    "## ■ 네트워크의 두가지 유형\n",
    "- 자연현상 중에, 우리 주변의 일상 중에(예: 키, 몸무게, 통계성적 등) 정규분포도 많고, 그에 못지않게 멱함수 분포(Power-law distribution)도 많이 있음.\n",
    "- 특히 개체간 상호작용과 (긍정적/부정적) 피드백이 작용하는 관계에서는 멱함수 분포가 존재할 가능성이 일반적으로 높습니다. \n",
    "\n",
    "![네트워크의 두가지 유형](img/네트워크의두가지유형.jfif)"
   ]
  },
  {
   "cell_type": "markdown",
   "metadata": {},
   "source": [
    "<hr>\n",
    "\n",
    "## ■ 로그 변환, 제곱근 변환을 통한 정규분포화\n",
    "- 분석 과정에서 Target Feature에 대한 EDA를 진행하다 보면 데이터의 분포가 정규분포가 아닌 경우가 많다.\n",
    "\n",
    "- 로그 변환, 제곱급 변환은 이러한 특징들을 가진 변수를 정규분포에 가깝게 만들어 주기 위해 정규분포가 아니었던 분포를 정규분포로 변환시키는데 활용됨\n",
    "\n",
    "- **Log를 취해주게 되면 큰 숫자를 같은 비율의 작은 숫자로 만들어주며, 첨도와 왜도가 줄어들면서 정규성이 높아진다.**\n",
    "\n",
    "- 대부분의 통계 분석 방법이 정규성 가정을 기반으로 하므로 완벽하지 않더라도 최대한 정규분포로 변환하는 노력이 필요하다.\n",
    "\n",
    "- **만약 변환 이후에도 정규 가정을 충족 못한다면, wilcox.test 등 비모수 검정 방법을 사용하는 것이 필요하다.**\n",
    "- 예를 들어, 일반적인 로그 데이터와 같이 0(zero) 수치가 매우 많은 경우, 또는 극단적인 positive skewed 분포를 보이거나 분포의 편중이 심할 경우, **log, sqrt, box-cox 등의 방식으로 분포 변환이 가능**\n",
    "- 위 방법 외에도 분포의 특성에 따라 제곱, 자연로그, 지수 등 다양한 함수가 사용될 수 있다.\n",
    "\n",
    "![데이터변환2_정규분포화](img/데이터변환2_정규분포화.jpg)\n"
   ]
  },
  {
   "cell_type": "code",
   "execution_count": 1,
   "metadata": {},
   "outputs": [
    {
     "data": {
      "text/html": [
       "<div>\n",
       "<style scoped>\n",
       "    .dataframe tbody tr th:only-of-type {\n",
       "        vertical-align: middle;\n",
       "    }\n",
       "\n",
       "    .dataframe tbody tr th {\n",
       "        vertical-align: top;\n",
       "    }\n",
       "\n",
       "    .dataframe thead th {\n",
       "        text-align: right;\n",
       "    }\n",
       "</style>\n",
       "<table border=\"1\" class=\"dataframe\">\n",
       "  <thead>\n",
       "    <tr style=\"text-align: right;\">\n",
       "      <th></th>\n",
       "      <th>PassengerId</th>\n",
       "      <th>Survived</th>\n",
       "      <th>Pclass</th>\n",
       "      <th>Name</th>\n",
       "      <th>Sex</th>\n",
       "      <th>Age</th>\n",
       "      <th>SibSp</th>\n",
       "      <th>Parch</th>\n",
       "      <th>Ticket</th>\n",
       "      <th>Fare</th>\n",
       "      <th>Cabin</th>\n",
       "      <th>Embarked</th>\n",
       "    </tr>\n",
       "  </thead>\n",
       "  <tbody>\n",
       "    <tr>\n",
       "      <th>0</th>\n",
       "      <td>1</td>\n",
       "      <td>0</td>\n",
       "      <td>3</td>\n",
       "      <td>Braund, Mr. Owen Harris</td>\n",
       "      <td>male</td>\n",
       "      <td>22.0</td>\n",
       "      <td>1</td>\n",
       "      <td>0</td>\n",
       "      <td>A/5 21171</td>\n",
       "      <td>7.2500</td>\n",
       "      <td>NaN</td>\n",
       "      <td>S</td>\n",
       "    </tr>\n",
       "    <tr>\n",
       "      <th>1</th>\n",
       "      <td>2</td>\n",
       "      <td>1</td>\n",
       "      <td>1</td>\n",
       "      <td>Cumings, Mrs. John Bradley (Florence Briggs Th...</td>\n",
       "      <td>female</td>\n",
       "      <td>38.0</td>\n",
       "      <td>1</td>\n",
       "      <td>0</td>\n",
       "      <td>PC 17599</td>\n",
       "      <td>71.2833</td>\n",
       "      <td>C85</td>\n",
       "      <td>C</td>\n",
       "    </tr>\n",
       "  </tbody>\n",
       "</table>\n",
       "</div>"
      ],
      "text/plain": [
       "   PassengerId  Survived  Pclass  \\\n",
       "0            1         0       3   \n",
       "1            2         1       1   \n",
       "\n",
       "                                                Name     Sex   Age  SibSp  \\\n",
       "0                            Braund, Mr. Owen Harris    male  22.0      1   \n",
       "1  Cumings, Mrs. John Bradley (Florence Briggs Th...  female  38.0      1   \n",
       "\n",
       "   Parch     Ticket     Fare Cabin Embarked  \n",
       "0      0  A/5 21171   7.2500   NaN        S  \n",
       "1      0   PC 17599  71.2833   C85        C  "
      ]
     },
     "execution_count": 1,
     "metadata": {},
     "output_type": "execute_result"
    }
   ],
   "source": [
    "import numpy as np\n",
    "import pandas as pd\n",
    "\n",
    "df_train = pd.read_csv('data/train.csv')\n",
    "df_train.head(2) "
   ]
  },
  {
   "cell_type": "code",
   "execution_count": 2,
   "metadata": {},
   "outputs": [
    {
     "name": "stdout",
     "output_type": "stream",
     "text": [
      "왜도: 4.787316519674893\n",
      "첨도: 33.39814088089868\n"
     ]
    }
   ],
   "source": [
    "# 여객 운임료 Fare 에 대한 왜도, 첨도\n",
    "\n",
    "print('왜도:', df_train['Fare'].skew()) # 왜도\n",
    "print('첨도:', df_train['Fare'].kurt()) # 첨도"
   ]
  },
  {
   "cell_type": "code",
   "execution_count": 3,
   "metadata": {},
   "outputs": [
    {
     "data": {
      "text/plain": [
       "<matplotlib.axes._subplots.AxesSubplot at 0x20ecbdb5388>"
      ]
     },
     "execution_count": 3,
     "metadata": {},
     "output_type": "execute_result"
    },
    {
     "data": {
      "image/png": "[encoded data removed]",
      "text/plain": [
       "<Figure size 720x432 with 1 Axes>"
      ]
     },
     "metadata": {
      "needs_background": "light"
     },
     "output_type": "display_data"
    }
   ],
   "source": [
    "import matplotlib.pyplot as plt\n",
    "import seaborn as sns\n",
    "\n",
    "f, ax = plt.subplots(figsize = (10, 6)) \n",
    "sns.distplot(df_train[\"Fare\"])"
   ]
  },
  {
   "cell_type": "markdown",
   "metadata": {},
   "source": [
    "## 로그변환\n",
    "- numpy.log1p 함수 사용"
   ]
  },
  {
   "cell_type": "code",
   "execution_count": 4,
   "metadata": {},
   "outputs": [
    {
     "name": "stdout",
     "output_type": "stream",
     "text": [
      "변환 후 : 왜도(Skewness): 0.395\n",
      "변환 후 : 첨도(Kurtosis): 0.976\n"
     ]
    },
    {
     "data": {
      "image/png": "[encoded data removed]",
      "text/plain": [
       "<Figure size 720x432 with 1 Axes>"
      ]
     },
     "metadata": {
      "needs_background": "light"
     },
     "output_type": "display_data"
    }
   ],
   "source": [
    "# 변환 후\n",
    "df_train[\"Log_Fare\"] = np.log1p(df_train[\"Fare\"])\n",
    "f, ax = plt.subplots(figsize = (10, 6))\n",
    "\n",
    "sns.distplot(df_train[\"Log_Fare\"]) \n",
    "\n",
    "print(\"변환 후 : 왜도(Skewness): {:.3f}\".format(df_train[\"Log_Fare\"].skew()))\n",
    "print(\"변환 후 : 첨도(Kurtosis): {:.3f}\".format(df_train[\"Log_Fare\"].kurt()))\n"
   ]
  },
  {
   "cell_type": "markdown",
   "metadata": {},
   "source": [
    "- 왜도와 첨도가 많이 떨어졌고, plot 자체도 나름 정규 근사화가 된 것을 확인할 수 있음"
   ]
  },
  {
   "cell_type": "markdown",
   "metadata": {},
   "source": [
    "### Box-Cox 변환\n",
    "- Box-Cox 변환은 정규분포가 아닌 자료를 정규분포로 변환하기 위해 사용되며, 모수(parameter)  λ 를 가진다.\n",
    "- 보통 여러가지  λ  값을 시도하여 가장 정규성을 높여주는 값을 찾아서 사용\n",
    "\n",
    "![boxcox](img/boxcox.PNG)\n"
   ]
  },
  {
   "cell_type": "markdown",
   "metadata": {},
   "source": [
    "- scipy.stats 의 boxcox 사용"
   ]
  },
  {
   "cell_type": "code",
   "execution_count": 10,
   "metadata": {},
   "outputs": [
    {
     "name": "stdout",
     "output_type": "stream",
     "text": [
      "(12657, 2)\n"
     ]
    },
    {
     "data": {
      "image/png": "[encoded data removed]",
      "text/plain": [
       "<Figure size 432x288 with 1 Axes>"
      ]
     },
     "metadata": {
      "needs_background": "light"
     },
     "output_type": "display_data"
    },
    {
     "name": "stdout",
     "output_type": "stream",
     "text": [
      "왜도 0.9009456173649683\n",
      "첨도 0.7514593389614936\n"
     ]
    },
    {
     "data": {
      "text/plain": [
       "<Figure size 432x288 with 0 Axes>"
      ]
     },
     "metadata": {},
     "output_type": "display_data"
    }
   ],
   "source": [
    "from scipy import stats\n",
    "\n",
    "# import the data as a pandas dataframe object\n",
    "df = pd.read_csv('data/sample_data.csv')\n",
    "print(df.shape)\n",
    "\n",
    "# plot a 100 bin histogram of the \"AIR_TIME\" column\n",
    "plt.hist(df['AIR_TIME'], bins=100)\n",
    "plt.show()\n",
    "plt.clf()\n",
    "\n",
    "print('왜도', df['AIR_TIME'].skew())\n",
    "print('첨도', df['AIR_TIME'].kurt())"
   ]
  },
  {
   "cell_type": "code",
   "execution_count": 15,
   "metadata": {},
   "outputs": [
    {
     "data": {
      "image/png": "[encoded data removed]",
      "text/plain": [
       "<Figure size 432x288 with 1 Axes>"
      ]
     },
     "metadata": {
      "needs_background": "light"
     },
     "output_type": "display_data"
    },
    {
     "name": "stdout",
     "output_type": "stream",
     "text": [
      "왜도 -0.02175320503670491\n",
      "왜도 -0.38798734097114407\n"
     ]
    }
   ],
   "source": [
    "# get values from our \"AIR_TIME\" column\n",
    "transform = np.asarray(df['AIR_TIME'].values)\n",
    "\n",
    "# transform values and store as \"dft\"\n",
    "dft = stats.boxcox(transform)[0]\n",
    "\n",
    "# plot the transformed data\n",
    "plt.hist(dft, bins=100, color='green')\n",
    "plt.show()\n",
    "\n",
    "print('왜도',pd.Series(dft).skew())\n",
    "print('왜도',pd.Series(dft).kurt())"
   ]
  }
 ],
 "metadata": {
  "kernelspec": {
   "display_name": "Python 3",
   "language": "python",
   "name": "python3"
  },
  "language_info": {
   "codemirror_mode": {
    "name": "ipython",
    "version": 3
   },
   "file_extension": ".py",
   "mimetype": "text/x-python",
   "name": "python",
   "nbconvert_exporter": "python",
   "pygments_lexer": "ipython3",
   "version": "3.7.5"
  }
 },
 "nbformat": 4,
 "nbformat_minor": 4
}
