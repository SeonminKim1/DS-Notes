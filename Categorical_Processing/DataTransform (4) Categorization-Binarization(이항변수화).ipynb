{
 "cells": [
  {
   "cell_type": "markdown",
   "metadata": {},
   "source": [
    "# Categorization (이항변수화)\n",
    "\n",
    "![데이터변환3_범주화](imgs/데이터변환3_범주화.png)\n",
    "\n",
    "<hr>\n",
    "\n",
    "## ■ 이항변수화란 (Binarization)\n",
    "- 이산형화가 연속형 범주를 다수의 구간으로 범주화 하는 것이라면, 이항변수화는 '1'과 '0'의 2개의 값으로 가변환 하는 것을 말함.\n",
    "- ex) 어떤 수치를 기준으로 1,0 등으로 나뉘는 경우 (백만원 이상이면 세금부여대상자)\n",
    "- 연관 단어로 : 베르누이 시행, 이항분포(binomial distribution)\n",
    "\n",
    "## ■ 베르누이 시행\n",
    "- **어떤 실험을 반복해서 시행한다고 했을 때 각 시행마다 \"성공(success, 1)\" 또는 \"실패(failure, 0)\"의 두 가지 경우의 수만 나오는 경우,** 이런 시행을 \"베르누이 시행(Bernoulli trial)\"이라고 합니다. \n",
    " \n",
    "## ■ 이항분포\n",
    "- 그리고 성공확률이 p인 베르누이 시행을 n번 반복했을 때 성공하는 횟수를 X라 하면, 확률변수 X는 모수 n과 p인 이항분포(Binomial distributio)을 따른다고 함.\n",
    "\n",
    "## ■수치형 변수의 이항변수화 \n",
    "- 연속형 변수를 특정 기준값 이하면 '0' 특정 기준값 초과면 '1' 두개의 값 변수로 변환\n",
    "- sklearn.preprocessing.Binarizer(), binarize()\n",
    "![이항변수화변환](imgs/이항변수화변환.jfif)\n",
    "\n"
   ]
  },
  {
   "cell_type": "code",
   "execution_count": 2,
   "metadata": {},
   "outputs": [
    {
     "data": {
      "text/plain": [
       "array([[ 10, -10,   1],\n",
       "       [  5,  -2,   2],\n",
       "       [ -5,  10,  -3]])"
      ]
     },
     "execution_count": 2,
     "metadata": {},
     "output_type": "execute_result"
    }
   ],
   "source": [
    "import numpy as np\n",
    "X = np.array([[10, -10, 1],\n",
    "              [5, -2, 2],\n",
    "              [-5, 10, -3]])\n",
    "X"
   ]
  },
  {
   "cell_type": "code",
   "execution_count": 3,
   "metadata": {},
   "outputs": [
    {
     "data": {
      "text/plain": [
       "array([[1, 0, 1],\n",
       "       [1, 0, 1],\n",
       "       [0, 1, 0]])"
      ]
     },
     "execution_count": 3,
     "metadata": {},
     "output_type": "execute_result"
    }
   ],
   "source": [
    "# 방법1 - Binarizer() -> fit(), transform()\n",
    "# threshold = 0.0 default\n",
    "\n",
    "from sklearn.preprocessing import Binarizer\n",
    "\n",
    "b = Binarizer().fit(X) # Binarizer  \n",
    "b.transform(X)"
   ]
  },
  {
   "cell_type": "code",
   "execution_count": 4,
   "metadata": {},
   "outputs": [
    {
     "data": {
      "text/plain": [
       "array([[1, 0, 0],\n",
       "       [1, 0, 0],\n",
       "       [0, 1, 0]])"
      ]
     },
     "execution_count": 4,
     "metadata": {},
     "output_type": "execute_result"
    }
   ],
   "source": [
    "# threshold = 2.0 default\n",
    "b2 = Binarizer(threshold=3).fit(X) # Binarizer 객체 \n",
    "b2.transform(X)"
   ]
  },
  {
   "cell_type": "code",
   "execution_count": 5,
   "metadata": {},
   "outputs": [
    {
     "data": {
      "text/plain": [
       "array([[1, 0, 0],\n",
       "       [0, 0, 0],\n",
       "       [0, 1, 0]])"
      ]
     },
     "execution_count": 5,
     "metadata": {},
     "output_type": "execute_result"
    }
   ],
   "source": [
    "# 방법2 - binarize()\n",
    "from sklearn.preprocessing import binarize\n",
    "\n",
    "# copy옵션 = False 면 X 자체를 손댐.\n",
    "binarize(X, threshold=5, copy=False)\n",
    "X"
   ]
  },
  {
   "cell_type": "markdown",
   "metadata": {},
   "source": [
    "### 출처\n",
    "- https://rfriend.tistory.com/271"
   ]
  }
 ],
 "metadata": {
  "kernelspec": {
   "display_name": "Python 3",
   "language": "python",
   "name": "python3"
  },
  "language_info": {
   "codemirror_mode": {
    "name": "ipython",
    "version": 3
   },
   "file_extension": ".py",
   "mimetype": "text/x-python",
   "name": "python",
   "nbconvert_exporter": "python",
   "pygments_lexer": "ipython3",
   "version": "3.7.5"
  }
 },
 "nbformat": 4,
 "nbformat_minor": 4
}
