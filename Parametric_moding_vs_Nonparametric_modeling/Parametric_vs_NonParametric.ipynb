{
 "cells": [
  {
   "cell_type": "markdown",
   "metadata": {},
   "source": [
    "## 모수모델 vs 비모수모델 (Parametric Model vs NonParametric Model)\n",
    "\n",
    "## 모수모델 (Parametric Model)\n",
    "- 모수모델은 퍼셉트론, 로지스틱 회귀, 선형 SVM, 선형회귀모델, 회귀모델 등\n",
    "- **모수적 모델은 알려진 확률분포를 기반으로 해당 모수를 추정하는 과정이 포함되어 있는 모델.**\n",
    "- 반응변수를 이용해 예측변수를 설명하려고 할 때 실제로는 두 변수 사이의 랜덤성으로 인해 예측변수만을 가지고 반영변수를 100% 에측하기가 어렵다. 따라서 어쩔수 없이 오차(error)로 표현을 해야 하는데, 오차값들이 평균이 0이고 분산이 특정 상수값을 갖는 정규분포를 따른 다는 가정하에 수립될 수 있다. \n",
    "- 따라서 이렇듯 모델 구축시 알려진 확률분포(정규분포)를 가정하기 때문에 모수적 방법론에 속한다)\n",
    "- 훈련 데이터셋에서 모델 파라미터를 추정하며, 훈련이 끝나면 원본 훈련 데이터셋이 필요 없어짐\n",
    "\n",
    "## 비모수모델 (NonParametric Model)\n",
    "- 비모수모델은 결정 트리, 랜덤 포레트스, 커널 SVM, KNN 등\n",
    "- 예시로 KNN은 가장 가까운 거리에 있는 K개의 관측치를 결정한 후 이들의 특성을 이용해 관심 관측치를 예측하는 과정이기에, 여기서 확률분포와 같은 개념은 전혀 사용되지 않는다.\n",
    "- **따라서 모델을 구축함에 있어, 확률분포의 개념이 전혀 사용되지 않는다면 비모수 모델이다.**\n",
    "\n",
    "\n",
    "#### 쉬운 결론으로 확률분포의 개념이 사용되면 모수모델 / 사용 안되면 비모수모델"
   ]
  }
 ],
 "metadata": {
  "kernelspec": {
   "display_name": "Python 3",
   "language": "python",
   "name": "python3"
  },
  "language_info": {
   "codemirror_mode": {
    "name": "ipython",
    "version": 3
   },
   "file_extension": ".py",
   "mimetype": "text/x-python",
   "name": "python",
   "nbconvert_exporter": "python",
   "pygments_lexer": "ipython3",
   "version": "3.7.5"
  }
 },
 "nbformat": 4,
 "nbformat_minor": 4
}
