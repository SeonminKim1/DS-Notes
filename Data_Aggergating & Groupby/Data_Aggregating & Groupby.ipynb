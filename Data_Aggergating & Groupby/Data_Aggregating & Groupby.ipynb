{
 "cells": [
  {
   "cell_type": "markdown",
   "metadata": {},
   "source": [
    "## 데이터 집계와 그룹 연산\n",
    "- 하나 이상의 키(함수, 배열, DataFrame 컬럼 이름)을 이용해서 pandas 객체를 여러 조각으로 나누는 방법\n",
    "- 합계, 평균, 표준편차 사용자 정의 함수 같은 그룹 요약 통계를 계산하는 방법\n",
    "- 정규화, 선형회귀 , 등급 또는 부분집합 선택 같은 집단 내 변형이나 다른 조작을 적용하는 방법\n",
    "- 변위치 분석과 다른 통계 집단 분석을 수행하는 방법\n",
    "\n",
    "- **기본 Pandas 함수 에서 제거**\n",
    "- **시계열 데이터의 집계의 경우 groupby = 리샘플링방법(resampling)**\n",
    "- **사용방법    ==>     데이터.groupby(['열이름']).적용함수()**\n",
    "\n",
    "![그룹연산예시](imgs/그룹연산예시.png)"
   ]
  },
  {
   "cell_type": "markdown",
   "metadata": {},
   "source": [
    "## 데이터 선언"
   ]
  },
  {
   "cell_type": "code",
   "execution_count": 3,
   "metadata": {},
   "outputs": [
    {
     "data": {
      "text/html": [
       "<div>\n",
       "<style scoped>\n",
       "    .dataframe tbody tr th:only-of-type {\n",
       "        vertical-align: middle;\n",
       "    }\n",
       "\n",
       "    .dataframe tbody tr th {\n",
       "        vertical-align: top;\n",
       "    }\n",
       "\n",
       "    .dataframe thead th {\n",
       "        text-align: right;\n",
       "    }\n",
       "</style>\n",
       "<table border=\"1\" class=\"dataframe\">\n",
       "  <thead>\n",
       "    <tr style=\"text-align: right;\">\n",
       "      <th></th>\n",
       "      <th>key1</th>\n",
       "      <th>key2</th>\n",
       "      <th>data1</th>\n",
       "      <th>data2</th>\n",
       "    </tr>\n",
       "  </thead>\n",
       "  <tbody>\n",
       "    <tr>\n",
       "      <th>0</th>\n",
       "      <td>a</td>\n",
       "      <td>one</td>\n",
       "      <td>-0.657446</td>\n",
       "      <td>-0.233373</td>\n",
       "    </tr>\n",
       "    <tr>\n",
       "      <th>1</th>\n",
       "      <td>a</td>\n",
       "      <td>two</td>\n",
       "      <td>-0.918170</td>\n",
       "      <td>2.207287</td>\n",
       "    </tr>\n",
       "    <tr>\n",
       "      <th>2</th>\n",
       "      <td>b</td>\n",
       "      <td>one</td>\n",
       "      <td>-1.452056</td>\n",
       "      <td>0.928736</td>\n",
       "    </tr>\n",
       "    <tr>\n",
       "      <th>3</th>\n",
       "      <td>b</td>\n",
       "      <td>two</td>\n",
       "      <td>0.088773</td>\n",
       "      <td>2.234303</td>\n",
       "    </tr>\n",
       "    <tr>\n",
       "      <th>4</th>\n",
       "      <td>a</td>\n",
       "      <td>one</td>\n",
       "      <td>-0.459922</td>\n",
       "      <td>0.120033</td>\n",
       "    </tr>\n",
       "  </tbody>\n",
       "</table>\n",
       "</div>"
      ],
      "text/plain": [
       "  key1 key2     data1     data2\n",
       "0    a  one -0.657446 -0.233373\n",
       "1    a  two -0.918170  2.207287\n",
       "2    b  one -1.452056  0.928736\n",
       "3    b  two  0.088773  2.234303\n",
       "4    a  one -0.459922  0.120033"
      ]
     },
     "execution_count": 3,
     "metadata": {},
     "output_type": "execute_result"
    }
   ],
   "source": [
    "import numpy as np\n",
    "import pandas as pd\n",
    "\n",
    "# 여러개 쳐도 나오게\n",
    "from IPython.core.interactiveshell import InteractiveShell\n",
    "InteractiveShell.ast_node_interactivity = \"all\"\n",
    "\n",
    "df = pd.DataFrame({'key1':['a','a','b','b','a'],\n",
    "                   'key2':['one','two','one','two','one'],\n",
    "                   'data1': np.random.randn(5),\n",
    "                   'data2': np.random.randn(5)})\n",
    "df"
   ]
  },
  {
   "cell_type": "markdown",
   "metadata": {},
   "source": [
    "## groupby 객체"
   ]
  },
  {
   "cell_type": "code",
   "execution_count": 4,
   "metadata": {},
   "outputs": [
    {
     "data": {
      "text/plain": [
       "<pandas.core.groupby.generic.SeriesGroupBy object at 0x000002CEF6028508>"
      ]
     },
     "execution_count": 4,
     "metadata": {},
     "output_type": "execute_result"
    },
    {
     "data": {
      "text/plain": [
       "key1\n",
       "a   -0.678513\n",
       "b   -0.681641\n",
       "Name: data1, dtype: float64"
      ]
     },
     "execution_count": 4,
     "metadata": {},
     "output_type": "execute_result"
    }
   ],
   "source": [
    "# grouped 변수는 GroupBy객체이고, 그룹연산을 위해 필요한 정보를 가지고 있는 것.\n",
    "grouped = df['data1'].groupby(df['key1'])\n",
    "grouped\n",
    "\n",
    "# 그룹별 평균 구하기.\n",
    "grouped.mean()"
   ]
  },
  {
   "cell_type": "markdown",
   "metadata": {},
   "source": [
    "## groupby 옵션"
   ]
  },
  {
   "cell_type": "code",
   "execution_count": 5,
   "metadata": {},
   "outputs": [
    {
     "data": {
      "text/plain": [
       "key1  key2\n",
       "a     one    -0.558684\n",
       "      two    -0.918170\n",
       "b     one    -1.452056\n",
       "      two     0.088773\n",
       "Name: data1, dtype: float64"
      ]
     },
     "execution_count": 5,
     "metadata": {},
     "output_type": "execute_result"
    },
    {
     "data": {
      "text/plain": [
       "key1  key2\n",
       "a     one     2\n",
       "      two     1\n",
       "b     one     1\n",
       "      two     1\n",
       "Name: data1, dtype: int64"
      ]
     },
     "execution_count": 5,
     "metadata": {},
     "output_type": "execute_result"
    }
   ],
   "source": [
    "# mean\n",
    "means = df['data1'].groupby([df['key1'], df['key2']]).mean()\n",
    "means\n",
    "\n",
    "# size\n",
    "sizes = df['data1'].groupby([df['key1'], df['key2']]).size()\n",
    "sizes"
   ]
  },
  {
   "cell_type": "markdown",
   "metadata": {},
   "source": [
    "## Unstack 계층해제하기"
   ]
  },
  {
   "cell_type": "code",
   "execution_count": 6,
   "metadata": {},
   "outputs": [
    {
     "data": {
      "text/html": [
       "<div>\n",
       "<style scoped>\n",
       "    .dataframe tbody tr th:only-of-type {\n",
       "        vertical-align: middle;\n",
       "    }\n",
       "\n",
       "    .dataframe tbody tr th {\n",
       "        vertical-align: top;\n",
       "    }\n",
       "\n",
       "    .dataframe thead th {\n",
       "        text-align: right;\n",
       "    }\n",
       "</style>\n",
       "<table border=\"1\" class=\"dataframe\">\n",
       "  <thead>\n",
       "    <tr style=\"text-align: right;\">\n",
       "      <th>key2</th>\n",
       "      <th>one</th>\n",
       "      <th>two</th>\n",
       "    </tr>\n",
       "    <tr>\n",
       "      <th>key1</th>\n",
       "      <th></th>\n",
       "      <th></th>\n",
       "    </tr>\n",
       "  </thead>\n",
       "  <tbody>\n",
       "    <tr>\n",
       "      <th>a</th>\n",
       "      <td>-0.558684</td>\n",
       "      <td>-0.918170</td>\n",
       "    </tr>\n",
       "    <tr>\n",
       "      <th>b</th>\n",
       "      <td>-1.452056</td>\n",
       "      <td>0.088773</td>\n",
       "    </tr>\n",
       "  </tbody>\n",
       "</table>\n",
       "</div>"
      ],
      "text/plain": [
       "key2       one       two\n",
       "key1                    \n",
       "a    -0.558684 -0.918170\n",
       "b    -1.452056  0.088773"
      ]
     },
     "execution_count": 6,
     "metadata": {},
     "output_type": "execute_result"
    },
    {
     "name": "stdout",
     "output_type": "stream",
     "text": [
      "<class 'pandas.core.frame.DataFrame'>\n"
     ]
    }
   ],
   "source": [
    "# unstack으로 계층해제하기\n",
    "means.unstack()\n",
    "print(type(means.unstack())) # DataFrame or Series 형태 반환"
   ]
  },
  {
   "cell_type": "markdown",
   "metadata": {},
   "source": [
    "## Groupby 그룹 순회하기"
   ]
  },
  {
   "cell_type": "code",
   "execution_count": 7,
   "metadata": {},
   "outputs": [
    {
     "name": "stdout",
     "output_type": "stream",
     "text": [
      "name a\n",
      "  key1 key2     data1     data2\n",
      "0    a  one -0.657446 -0.233373\n",
      "1    a  two -0.918170  2.207287\n",
      "4    a  one -0.459922  0.120033 \n",
      "\n",
      "name b\n",
      "  key1 key2     data1     data2\n",
      "2    b  one -1.452056  0.928736\n",
      "3    b  two  0.088773  2.234303 \n",
      "\n"
     ]
    },
    {
     "data": {
      "text/plain": [
       "{'a':   key1 key2     data1     data2\n",
       " 0    a  one -0.657446 -0.233373\n",
       " 1    a  two -0.918170  2.207287\n",
       " 4    a  one -0.459922  0.120033,\n",
       " 'b':   key1 key2     data1     data2\n",
       " 2    b  one -1.452056  0.928736\n",
       " 3    b  two  0.088773  2.234303}"
      ]
     },
     "execution_count": 7,
     "metadata": {},
     "output_type": "execute_result"
    }
   ],
   "source": [
    "# 그룹간 순회하기\n",
    "for name, group in df.groupby('key1'):\n",
    "    print('name',name)\n",
    "    print(group,'\\n')\n",
    "    \n",
    "    \n",
    "# 그룹순회 - dict형으로 가져오기\n",
    "pieces = dict(list(df.groupby('key1')))\n",
    "pieces"
   ]
  },
  {
   "cell_type": "markdown",
   "metadata": {},
   "source": [
    "## 컬럼이나 컬럼의 일부만 선택하기"
   ]
  },
  {
   "cell_type": "code",
   "execution_count": 26,
   "metadata": {},
   "outputs": [
    {
     "data": {
      "text/html": [
       "<div>\n",
       "<style scoped>\n",
       "    .dataframe tbody tr th:only-of-type {\n",
       "        vertical-align: middle;\n",
       "    }\n",
       "\n",
       "    .dataframe tbody tr th {\n",
       "        vertical-align: top;\n",
       "    }\n",
       "\n",
       "    .dataframe thead th {\n",
       "        text-align: right;\n",
       "    }\n",
       "</style>\n",
       "<table border=\"1\" class=\"dataframe\">\n",
       "  <thead>\n",
       "    <tr style=\"text-align: right;\">\n",
       "      <th></th>\n",
       "      <th></th>\n",
       "      <th>data2</th>\n",
       "    </tr>\n",
       "    <tr>\n",
       "      <th>key1</th>\n",
       "      <th>key2</th>\n",
       "      <th></th>\n",
       "    </tr>\n",
       "  </thead>\n",
       "  <tbody>\n",
       "    <tr>\n",
       "      <th rowspan=\"2\" valign=\"top\">a</th>\n",
       "      <th>one</th>\n",
       "      <td>-0.812568</td>\n",
       "    </tr>\n",
       "    <tr>\n",
       "      <th>two</th>\n",
       "      <td>0.739611</td>\n",
       "    </tr>\n",
       "    <tr>\n",
       "      <th rowspan=\"2\" valign=\"top\">b</th>\n",
       "      <th>one</th>\n",
       "      <td>-1.095206</td>\n",
       "    </tr>\n",
       "    <tr>\n",
       "      <th>two</th>\n",
       "      <td>1.385332</td>\n",
       "    </tr>\n",
       "  </tbody>\n",
       "</table>\n",
       "</div>"
      ],
      "text/plain": [
       "              data2\n",
       "key1 key2          \n",
       "a    one  -0.812568\n",
       "     two   0.739611\n",
       "b    one  -1.095206\n",
       "     two   1.385332"
      ]
     },
     "execution_count": 26,
     "metadata": {},
     "output_type": "execute_result"
    },
    {
     "data": {
      "text/plain": [
       "key1\n",
       "a    0.384919\n",
       "b   -0.982966\n",
       "Name: data1, dtype: float64"
      ]
     },
     "execution_count": 26,
     "metadata": {},
     "output_type": "execute_result"
    }
   ],
   "source": [
    "# 여러 컬럼 선택해서 (key1, key2) data2 groupby\n",
    "df.groupby(['key1','key2'])[['data2']].mean()\n",
    "\n",
    "# 컬럼의 일부만 선택해서 groupby\n",
    "df['data1'].groupby(df['key1']).mean()"
   ]
  },
  {
   "cell_type": "markdown",
   "metadata": {},
   "source": [
    "## 사전과 Series에서 그룹핑하기\n",
    "- 그룹 정보는 배열이 아닌 형태로 존재하기도 한다.\n",
    "- dict 형태로 존재할 때 키값으로 데이터 모으고 value로 컬럼 데이터"
   ]
  },
  {
   "cell_type": "code",
   "execution_count": 9,
   "metadata": {},
   "outputs": [
    {
     "data": {
      "text/plain": [
       "{'a': 'red', 'b': 'red', 'c': 'blue', 'd': 'blue', 'e': 'red', 'f': 'orange'}"
      ]
     },
     "execution_count": 9,
     "metadata": {},
     "output_type": "execute_result"
    },
    {
     "name": "stdout",
     "output_type": "stream",
     "text": [
      "groupby 기준 dictionary\n"
     ]
    },
    {
     "data": {
      "text/html": [
       "<div>\n",
       "<style scoped>\n",
       "    .dataframe tbody tr th:only-of-type {\n",
       "        vertical-align: middle;\n",
       "    }\n",
       "\n",
       "    .dataframe tbody tr th {\n",
       "        vertical-align: top;\n",
       "    }\n",
       "\n",
       "    .dataframe thead th {\n",
       "        text-align: right;\n",
       "    }\n",
       "</style>\n",
       "<table border=\"1\" class=\"dataframe\">\n",
       "  <thead>\n",
       "    <tr style=\"text-align: right;\">\n",
       "      <th></th>\n",
       "      <th>a</th>\n",
       "      <th>b</th>\n",
       "      <th>c</th>\n",
       "      <th>d</th>\n",
       "      <th>e</th>\n",
       "    </tr>\n",
       "  </thead>\n",
       "  <tbody>\n",
       "    <tr>\n",
       "      <th>Joe</th>\n",
       "      <td>-1.407376</td>\n",
       "      <td>1.903233</td>\n",
       "      <td>-0.224021</td>\n",
       "      <td>1.166461</td>\n",
       "      <td>2.346123</td>\n",
       "    </tr>\n",
       "    <tr>\n",
       "      <th>Steve</th>\n",
       "      <td>-2.173440</td>\n",
       "      <td>1.466605</td>\n",
       "      <td>-0.485765</td>\n",
       "      <td>-1.712693</td>\n",
       "      <td>-0.785088</td>\n",
       "    </tr>\n",
       "    <tr>\n",
       "      <th>Wes</th>\n",
       "      <td>0.217075</td>\n",
       "      <td>NaN</td>\n",
       "      <td>NaN</td>\n",
       "      <td>-1.349136</td>\n",
       "      <td>0.222517</td>\n",
       "    </tr>\n",
       "    <tr>\n",
       "      <th>Jim</th>\n",
       "      <td>-1.213006</td>\n",
       "      <td>-0.233767</td>\n",
       "      <td>-1.155126</td>\n",
       "      <td>-0.238673</td>\n",
       "      <td>-0.508133</td>\n",
       "    </tr>\n",
       "    <tr>\n",
       "      <th>Travis</th>\n",
       "      <td>-1.275066</td>\n",
       "      <td>0.948932</td>\n",
       "      <td>0.908479</td>\n",
       "      <td>0.730325</td>\n",
       "      <td>-1.100186</td>\n",
       "    </tr>\n",
       "  </tbody>\n",
       "</table>\n",
       "</div>"
      ],
      "text/plain": [
       "               a         b         c         d         e\n",
       "Joe    -1.407376  1.903233 -0.224021  1.166461  2.346123\n",
       "Steve  -2.173440  1.466605 -0.485765 -1.712693 -0.785088\n",
       "Wes     0.217075       NaN       NaN -1.349136  0.222517\n",
       "Jim    -1.213006 -0.233767 -1.155126 -0.238673 -0.508133\n",
       "Travis -1.275066  0.948932  0.908479  0.730325 -1.100186"
      ]
     },
     "execution_count": 9,
     "metadata": {},
     "output_type": "execute_result"
    },
    {
     "name": "stdout",
     "output_type": "stream",
     "text": [
      "people data\n"
     ]
    },
    {
     "data": {
      "text/html": [
       "<div>\n",
       "<style scoped>\n",
       "    .dataframe tbody tr th:only-of-type {\n",
       "        vertical-align: middle;\n",
       "    }\n",
       "\n",
       "    .dataframe tbody tr th {\n",
       "        vertical-align: top;\n",
       "    }\n",
       "\n",
       "    .dataframe thead th {\n",
       "        text-align: right;\n",
       "    }\n",
       "</style>\n",
       "<table border=\"1\" class=\"dataframe\">\n",
       "  <thead>\n",
       "    <tr style=\"text-align: right;\">\n",
       "      <th></th>\n",
       "      <th>blue</th>\n",
       "      <th>red</th>\n",
       "    </tr>\n",
       "  </thead>\n",
       "  <tbody>\n",
       "    <tr>\n",
       "      <th>Joe</th>\n",
       "      <td>0.942440</td>\n",
       "      <td>2.841980</td>\n",
       "    </tr>\n",
       "    <tr>\n",
       "      <th>Steve</th>\n",
       "      <td>-2.198458</td>\n",
       "      <td>-1.491922</td>\n",
       "    </tr>\n",
       "    <tr>\n",
       "      <th>Wes</th>\n",
       "      <td>-1.349136</td>\n",
       "      <td>0.439592</td>\n",
       "    </tr>\n",
       "    <tr>\n",
       "      <th>Jim</th>\n",
       "      <td>-1.393799</td>\n",
       "      <td>-1.954906</td>\n",
       "    </tr>\n",
       "    <tr>\n",
       "      <th>Travis</th>\n",
       "      <td>1.638803</td>\n",
       "      <td>-1.426320</td>\n",
       "    </tr>\n",
       "  </tbody>\n",
       "</table>\n",
       "</div>"
      ],
      "text/plain": [
       "            blue       red\n",
       "Joe     0.942440  2.841980\n",
       "Steve  -2.198458 -1.491922\n",
       "Wes    -1.349136  0.439592\n",
       "Jim    -1.393799 -1.954906\n",
       "Travis  1.638803 -1.426320"
      ]
     },
     "execution_count": 9,
     "metadata": {},
     "output_type": "execute_result"
    },
    {
     "name": "stdout",
     "output_type": "stream",
     "text": [
      "groupby 계산결과\n"
     ]
    }
   ],
   "source": [
    "people = pd.DataFrame(np.random.randn(5,5), \n",
    "                      columns=['a','b','c','d','e'],\n",
    "                     index = ['Joe','Steve','Wes','Jim','Travis'])\n",
    "\n",
    "# 2행 (1번,2번 컬럼) nan\n",
    "people.iloc[2:3, [1,2]] = np.nan\n",
    "\n",
    "# dict\n",
    "mapping = {'a':'red','b':'red','c':'blue','d':'blue',\n",
    "           'e':'red','e':'red','f':'orange'}\n",
    "mapping\n",
    "print('groupby 기준 dictionary')\n",
    "\n",
    "# people\n",
    "people\n",
    "print('people data')\n",
    "\n",
    "# groupyby - dict\n",
    "by_column = people.groupby(mapping, axis=1)\n",
    "by_column.sum()\n",
    "print('groupby 계산결과')"
   ]
  },
  {
   "cell_type": "markdown",
   "metadata": {},
   "source": [
    "## 함수로 그룹핑하기\n",
    "- 색인값으로 row 인덱스를 쓴다는 것 명심"
   ]
  },
  {
   "cell_type": "code",
   "execution_count": 22,
   "metadata": {},
   "outputs": [
    {
     "data": {
      "text/html": [
       "<div>\n",
       "<style scoped>\n",
       "    .dataframe tbody tr th:only-of-type {\n",
       "        vertical-align: middle;\n",
       "    }\n",
       "\n",
       "    .dataframe tbody tr th {\n",
       "        vertical-align: top;\n",
       "    }\n",
       "\n",
       "    .dataframe thead th {\n",
       "        text-align: right;\n",
       "    }\n",
       "</style>\n",
       "<table border=\"1\" class=\"dataframe\">\n",
       "  <thead>\n",
       "    <tr style=\"text-align: right;\">\n",
       "      <th></th>\n",
       "      <th>a</th>\n",
       "      <th>b</th>\n",
       "      <th>c</th>\n",
       "      <th>d</th>\n",
       "      <th>e</th>\n",
       "    </tr>\n",
       "  </thead>\n",
       "  <tbody>\n",
       "    <tr>\n",
       "      <th>3</th>\n",
       "      <td>-2.403306</td>\n",
       "      <td>1.669466</td>\n",
       "      <td>-1.379147</td>\n",
       "      <td>-0.421348</td>\n",
       "      <td>2.060506</td>\n",
       "    </tr>\n",
       "    <tr>\n",
       "      <th>5</th>\n",
       "      <td>-2.173440</td>\n",
       "      <td>1.466605</td>\n",
       "      <td>-0.485765</td>\n",
       "      <td>-1.712693</td>\n",
       "      <td>-0.785088</td>\n",
       "    </tr>\n",
       "    <tr>\n",
       "      <th>6</th>\n",
       "      <td>-1.275066</td>\n",
       "      <td>0.948932</td>\n",
       "      <td>0.908479</td>\n",
       "      <td>0.730325</td>\n",
       "      <td>-1.100186</td>\n",
       "    </tr>\n",
       "  </tbody>\n",
       "</table>\n",
       "</div>"
      ],
      "text/plain": [
       "          a         b         c         d         e\n",
       "3 -2.403306  1.669466 -1.379147 -0.421348  2.060506\n",
       "5 -2.173440  1.466605 -0.485765 -1.712693 -0.785088\n",
       "6 -1.275066  0.948932  0.908479  0.730325 -1.100186"
      ]
     },
     "execution_count": 22,
     "metadata": {},
     "output_type": "execute_result"
    },
    {
     "data": {
      "text/html": [
       "<div>\n",
       "<style scoped>\n",
       "    .dataframe tbody tr th:only-of-type {\n",
       "        vertical-align: middle;\n",
       "    }\n",
       "\n",
       "    .dataframe tbody tr th {\n",
       "        vertical-align: top;\n",
       "    }\n",
       "\n",
       "    .dataframe thead th {\n",
       "        text-align: right;\n",
       "    }\n",
       "</style>\n",
       "<table border=\"1\" class=\"dataframe\">\n",
       "  <thead>\n",
       "    <tr style=\"text-align: right;\">\n",
       "      <th></th>\n",
       "      <th>a</th>\n",
       "      <th>b</th>\n",
       "      <th>c</th>\n",
       "      <th>d</th>\n",
       "      <th>e</th>\n",
       "    </tr>\n",
       "  </thead>\n",
       "  <tbody>\n",
       "    <tr>\n",
       "      <th>3</th>\n",
       "      <td>-2.403306</td>\n",
       "      <td>1.669466</td>\n",
       "      <td>-1.379147</td>\n",
       "      <td>-0.421348</td>\n",
       "      <td>2.060506</td>\n",
       "    </tr>\n",
       "    <tr>\n",
       "      <th>5</th>\n",
       "      <td>-2.173440</td>\n",
       "      <td>1.466605</td>\n",
       "      <td>-0.485765</td>\n",
       "      <td>-1.712693</td>\n",
       "      <td>-0.785088</td>\n",
       "    </tr>\n",
       "    <tr>\n",
       "      <th>6</th>\n",
       "      <td>-1.275066</td>\n",
       "      <td>0.948932</td>\n",
       "      <td>0.908479</td>\n",
       "      <td>0.730325</td>\n",
       "      <td>-1.100186</td>\n",
       "    </tr>\n",
       "  </tbody>\n",
       "</table>\n",
       "</div>"
      ],
      "text/plain": [
       "          a         b         c         d         e\n",
       "3 -2.403306  1.669466 -1.379147 -0.421348  2.060506\n",
       "5 -2.173440  1.466605 -0.485765 -1.712693 -0.785088\n",
       "6 -1.275066  0.948932  0.908479  0.730325 -1.100186"
      ]
     },
     "execution_count": 22,
     "metadata": {},
     "output_type": "execute_result"
    },
    {
     "data": {
      "text/html": [
       "<div>\n",
       "<style scoped>\n",
       "    .dataframe tbody tr th:only-of-type {\n",
       "        vertical-align: middle;\n",
       "    }\n",
       "\n",
       "    .dataframe tbody tr th {\n",
       "        vertical-align: top;\n",
       "    }\n",
       "\n",
       "    .dataframe thead th {\n",
       "        text-align: right;\n",
       "    }\n",
       "</style>\n",
       "<table border=\"1\" class=\"dataframe\">\n",
       "  <thead>\n",
       "    <tr style=\"text-align: right;\">\n",
       "      <th></th>\n",
       "      <th></th>\n",
       "      <th>a</th>\n",
       "      <th>b</th>\n",
       "      <th>c</th>\n",
       "      <th>d</th>\n",
       "      <th>e</th>\n",
       "    </tr>\n",
       "  </thead>\n",
       "  <tbody>\n",
       "    <tr>\n",
       "      <th rowspan=\"2\" valign=\"top\">3</th>\n",
       "      <th>one</th>\n",
       "      <td>-1.407376</td>\n",
       "      <td>1.903233</td>\n",
       "      <td>-0.224021</td>\n",
       "      <td>-1.349136</td>\n",
       "      <td>0.222517</td>\n",
       "    </tr>\n",
       "    <tr>\n",
       "      <th>two</th>\n",
       "      <td>-1.213006</td>\n",
       "      <td>-0.233767</td>\n",
       "      <td>-1.155126</td>\n",
       "      <td>-0.238673</td>\n",
       "      <td>-0.508133</td>\n",
       "    </tr>\n",
       "    <tr>\n",
       "      <th>5</th>\n",
       "      <th>one</th>\n",
       "      <td>-2.173440</td>\n",
       "      <td>1.466605</td>\n",
       "      <td>-0.485765</td>\n",
       "      <td>-1.712693</td>\n",
       "      <td>-0.785088</td>\n",
       "    </tr>\n",
       "    <tr>\n",
       "      <th>6</th>\n",
       "      <th>two</th>\n",
       "      <td>-1.275066</td>\n",
       "      <td>0.948932</td>\n",
       "      <td>0.908479</td>\n",
       "      <td>0.730325</td>\n",
       "      <td>-1.100186</td>\n",
       "    </tr>\n",
       "  </tbody>\n",
       "</table>\n",
       "</div>"
      ],
      "text/plain": [
       "              a         b         c         d         e\n",
       "3 one -1.407376  1.903233 -0.224021 -1.349136  0.222517\n",
       "  two -1.213006 -0.233767 -1.155126 -0.238673 -0.508133\n",
       "5 one -2.173440  1.466605 -0.485765 -1.712693 -0.785088\n",
       "6 two -1.275066  0.948932  0.908479  0.730325 -1.100186"
      ]
     },
     "execution_count": 22,
     "metadata": {},
     "output_type": "execute_result"
    }
   ],
   "source": [
    "# 이름의 길이별로 합계 통계\n",
    "people.groupby(len).sum() # len 이라고 쓰면 그 기준이 알아서 index의 len이 됨.\n",
    "\n",
    "# 이름의 길이별로 합계 통계 2\n",
    "ls = [3,5,3,3,6]\n",
    "people.groupby(ls).sum()\n",
    "\n",
    "# len 과 key_list 분류로 이어짐\n",
    "key_list=['one','one','one','two','two']\n",
    "people.groupby([len, key_list]).min()"
   ]
  },
  {
   "cell_type": "markdown",
   "metadata": {},
   "source": [
    "## 데이터 집계\n",
    "- 데이터 집계는 배열로부터 스칼라값을 만들어내는 모든 데이터 변환 작업을 말함.\n",
    "- 집계함수는 일반적으로 좀더 느리게 동작하는데, 중간 데이터를 생성하는 과정에서 함수 호출이나 데이터 정렬 같은 오버헤드가발생하기 때문\n",
    "- count, sum, mean, median, std, var, min, max, prod(NA가 아닌 값들의 곱), first(NA가 아닌 값들 중 첫번째값), last(NA가 아닌 값들 중 마지막값)\n",
    "- quantile은 groupby를 위해서 구현되진않았고, Series메서드로 사용가능."
   ]
  },
  {
   "cell_type": "code",
   "execution_count": 29,
   "metadata": {},
   "outputs": [
    {
     "data": {
      "text/html": [
       "<div>\n",
       "<style scoped>\n",
       "    .dataframe tbody tr th:only-of-type {\n",
       "        vertical-align: middle;\n",
       "    }\n",
       "\n",
       "    .dataframe tbody tr th {\n",
       "        vertical-align: top;\n",
       "    }\n",
       "\n",
       "    .dataframe thead th {\n",
       "        text-align: right;\n",
       "    }\n",
       "</style>\n",
       "<table border=\"1\" class=\"dataframe\">\n",
       "  <thead>\n",
       "    <tr style=\"text-align: right;\">\n",
       "      <th></th>\n",
       "      <th>key1</th>\n",
       "      <th>key2</th>\n",
       "      <th>data1</th>\n",
       "      <th>data2</th>\n",
       "    </tr>\n",
       "  </thead>\n",
       "  <tbody>\n",
       "    <tr>\n",
       "      <th>0</th>\n",
       "      <td>a</td>\n",
       "      <td>one</td>\n",
       "      <td>-0.657446</td>\n",
       "      <td>-0.233373</td>\n",
       "    </tr>\n",
       "    <tr>\n",
       "      <th>1</th>\n",
       "      <td>a</td>\n",
       "      <td>two</td>\n",
       "      <td>-0.918170</td>\n",
       "      <td>2.207287</td>\n",
       "    </tr>\n",
       "    <tr>\n",
       "      <th>2</th>\n",
       "      <td>b</td>\n",
       "      <td>one</td>\n",
       "      <td>-1.452056</td>\n",
       "      <td>0.928736</td>\n",
       "    </tr>\n",
       "    <tr>\n",
       "      <th>3</th>\n",
       "      <td>b</td>\n",
       "      <td>two</td>\n",
       "      <td>0.088773</td>\n",
       "      <td>2.234303</td>\n",
       "    </tr>\n",
       "    <tr>\n",
       "      <th>4</th>\n",
       "      <td>a</td>\n",
       "      <td>one</td>\n",
       "      <td>-0.459922</td>\n",
       "      <td>0.120033</td>\n",
       "    </tr>\n",
       "  </tbody>\n",
       "</table>\n",
       "</div>"
      ],
      "text/plain": [
       "  key1 key2     data1     data2\n",
       "0    a  one -0.657446 -0.233373\n",
       "1    a  two -0.918170  2.207287\n",
       "2    b  one -1.452056  0.928736\n",
       "3    b  two  0.088773  2.234303\n",
       "4    a  one -0.459922  0.120033"
      ]
     },
     "execution_count": 29,
     "metadata": {},
     "output_type": "execute_result"
    },
    {
     "name": "stdout",
     "output_type": "stream",
     "text": [
      "원래 데이터\n"
     ]
    },
    {
     "data": {
      "text/plain": [
       "key1\n",
       "a   -0.499427\n",
       "b   -0.065310\n",
       "Name: data1, dtype: float64"
      ]
     },
     "execution_count": 29,
     "metadata": {},
     "output_type": "execute_result"
    }
   ],
   "source": [
    "df\n",
    "print('원래 데이터')\n",
    "\n",
    "grouped = df.groupby('key1')\n",
    "\n",
    "grouped['data1'].quantile(0.9)"
   ]
  },
  {
   "cell_type": "markdown",
   "metadata": {},
   "source": [
    "## 자신만의 데이터 집계함수 사용 \n",
    "- 배열의 aggregate나 agg 메서드에 해당 함수 넘기기"
   ]
  },
  {
   "cell_type": "code",
   "execution_count": 33,
   "metadata": {},
   "outputs": [
    {
     "data": {
      "text/html": [
       "<div>\n",
       "<style scoped>\n",
       "    .dataframe tbody tr th:only-of-type {\n",
       "        vertical-align: middle;\n",
       "    }\n",
       "\n",
       "    .dataframe tbody tr th {\n",
       "        vertical-align: top;\n",
       "    }\n",
       "\n",
       "    .dataframe thead th {\n",
       "        text-align: right;\n",
       "    }\n",
       "</style>\n",
       "<table border=\"1\" class=\"dataframe\">\n",
       "  <thead>\n",
       "    <tr style=\"text-align: right;\">\n",
       "      <th></th>\n",
       "      <th>data1</th>\n",
       "      <th>data2</th>\n",
       "    </tr>\n",
       "    <tr>\n",
       "      <th>key1</th>\n",
       "      <th></th>\n",
       "      <th></th>\n",
       "    </tr>\n",
       "  </thead>\n",
       "  <tbody>\n",
       "    <tr>\n",
       "      <th>a</th>\n",
       "      <td>0.458247</td>\n",
       "      <td>2.440660</td>\n",
       "    </tr>\n",
       "    <tr>\n",
       "      <th>b</th>\n",
       "      <td>1.540829</td>\n",
       "      <td>1.305567</td>\n",
       "    </tr>\n",
       "  </tbody>\n",
       "</table>\n",
       "</div>"
      ],
      "text/plain": [
       "         data1     data2\n",
       "key1                    \n",
       "a     0.458247  2.440660\n",
       "b     1.540829  1.305567"
      ]
     },
     "execution_count": 33,
     "metadata": {},
     "output_type": "execute_result"
    },
    {
     "data": {
      "text/html": [
       "<div>\n",
       "<style scoped>\n",
       "    .dataframe tbody tr th:only-of-type {\n",
       "        vertical-align: middle;\n",
       "    }\n",
       "\n",
       "    .dataframe tbody tr th {\n",
       "        vertical-align: top;\n",
       "    }\n",
       "\n",
       "    .dataframe thead th {\n",
       "        text-align: right;\n",
       "    }\n",
       "</style>\n",
       "<table border=\"1\" class=\"dataframe\">\n",
       "  <thead>\n",
       "    <tr style=\"text-align: right;\">\n",
       "      <th></th>\n",
       "      <th>data1</th>\n",
       "      <th>data2</th>\n",
       "    </tr>\n",
       "    <tr>\n",
       "      <th>key1</th>\n",
       "      <th></th>\n",
       "      <th></th>\n",
       "    </tr>\n",
       "  </thead>\n",
       "  <tbody>\n",
       "    <tr>\n",
       "      <th>a</th>\n",
       "      <td>-0.678513</td>\n",
       "      <td>0.697982</td>\n",
       "    </tr>\n",
       "    <tr>\n",
       "      <th>b</th>\n",
       "      <td>-0.681641</td>\n",
       "      <td>1.581519</td>\n",
       "    </tr>\n",
       "  </tbody>\n",
       "</table>\n",
       "</div>"
      ],
      "text/plain": [
       "         data1     data2\n",
       "key1                    \n",
       "a    -0.678513  0.697982\n",
       "b    -0.681641  1.581519"
      ]
     },
     "execution_count": 33,
     "metadata": {},
     "output_type": "execute_result"
    }
   ],
   "source": [
    "# 최대에서 최소빼기\n",
    "def max_sub_min(arr):\n",
    "    return arr.max() - arr.min()\n",
    "\n",
    "# agg 함수 - 사용자정의함수\n",
    "grouped.agg(max_sub_min)\n",
    "\n",
    "# aggregate 함수 - mean\n",
    "grouped.aggregate('mean')"
   ]
  },
  {
   "cell_type": "markdown",
   "metadata": {},
   "source": [
    "## map함수, apply 함수, applymap 함수\n",
    "\n",
    "### 1. map함수 \n",
    "- DataFrame이 아닌 Series 타입에서만 사용 가능.\n",
    "    - Sereis란 = 인덱스(index) + 값(value)\n",
    "\n",
    "### 2. apply함수\n",
    "- apply함수는 Series 객체에서도 사용가능하고, DataFrame 객체에서도 사용가능하다는 \n",
    "- **apply 함수는 DataFrame의 행/열 기반으로 작동 / applymap은 DataFrame에서 요소별로 작동**\n",
    "- **가장 일반적인 GroupBy 메서드의 목적. apply 하기 위해서**\n",
    "\n",
    " \n",
    "### 3. applymap 함수\n",
    "- DataFrame에서 요소별로 작동함\n",
    "\n",
    "### 요약\n",
    "- map은 Series형에서의 각각의 데이터에 대한 접근.\n",
    "- apply가 DataFrame의 행, 열에 대한 함수 적용 결과\n",
    "- applymap DataFrame에 접근하되 각각의 데이터에 접근\n"
   ]
  },
  {
   "cell_type": "code",
   "execution_count": 54,
   "metadata": {},
   "outputs": [
    {
     "data": {
      "text/html": [
       "<div>\n",
       "<style scoped>\n",
       "    .dataframe tbody tr th:only-of-type {\n",
       "        vertical-align: middle;\n",
       "    }\n",
       "\n",
       "    .dataframe tbody tr th {\n",
       "        vertical-align: top;\n",
       "    }\n",
       "\n",
       "    .dataframe thead th {\n",
       "        text-align: right;\n",
       "    }\n",
       "</style>\n",
       "<table border=\"1\" class=\"dataframe\">\n",
       "  <thead>\n",
       "    <tr style=\"text-align: right;\">\n",
       "      <th></th>\n",
       "      <th>b</th>\n",
       "      <th>d</th>\n",
       "      <th>e</th>\n",
       "    </tr>\n",
       "  </thead>\n",
       "  <tbody>\n",
       "    <tr>\n",
       "      <th>Utah</th>\n",
       "      <td>-0.729602</td>\n",
       "      <td>-0.457167</td>\n",
       "      <td>1.811120</td>\n",
       "    </tr>\n",
       "    <tr>\n",
       "      <th>Ohio</th>\n",
       "      <td>-0.407900</td>\n",
       "      <td>-0.231570</td>\n",
       "      <td>0.833774</td>\n",
       "    </tr>\n",
       "    <tr>\n",
       "      <th>Texas</th>\n",
       "      <td>-0.779708</td>\n",
       "      <td>-0.923775</td>\n",
       "      <td>-0.319383</td>\n",
       "    </tr>\n",
       "    <tr>\n",
       "      <th>Oregon</th>\n",
       "      <td>-0.129744</td>\n",
       "      <td>-1.580398</td>\n",
       "      <td>0.990451</td>\n",
       "    </tr>\n",
       "  </tbody>\n",
       "</table>\n",
       "</div>"
      ],
      "text/plain": [
       "               b         d         e\n",
       "Utah   -0.729602 -0.457167  1.811120\n",
       "Ohio   -0.407900 -0.231570  0.833774\n",
       "Texas  -0.779708 -0.923775 -0.319383\n",
       "Oregon -0.129744 -1.580398  0.990451"
      ]
     },
     "execution_count": 54,
     "metadata": {},
     "output_type": "execute_result"
    },
    {
     "data": {
      "text/plain": [
       "Utah       1.81\n",
       "Ohio       0.83\n",
       "Texas     -0.32\n",
       "Oregon     0.99\n",
       "Name: e, dtype: object"
      ]
     },
     "execution_count": 54,
     "metadata": {},
     "output_type": "execute_result"
    }
   ],
   "source": [
    "### map 함수는 Series 형에대해서만 적용 가능.\n",
    "\n",
    "frame = pd.DataFrame(np.random.randn(4, 3), \n",
    "                  columns=list('bde'), \n",
    "                  index=['Utah', 'Ohio', 'Texas', 'Oregon'])\n",
    "frame\n",
    "\n",
    "f_map = lambda x: '%.2f' % x\n",
    "\n",
    "# series라 작동가능\n",
    "frame['e'].map(f_map)\n"
   ]
  },
  {
   "cell_type": "code",
   "execution_count": 55,
   "metadata": {},
   "outputs": [
    {
     "data": {
      "text/html": [
       "<div>\n",
       "<style scoped>\n",
       "    .dataframe tbody tr th:only-of-type {\n",
       "        vertical-align: middle;\n",
       "    }\n",
       "\n",
       "    .dataframe tbody tr th {\n",
       "        vertical-align: top;\n",
       "    }\n",
       "\n",
       "    .dataframe thead th {\n",
       "        text-align: right;\n",
       "    }\n",
       "</style>\n",
       "<table border=\"1\" class=\"dataframe\">\n",
       "  <thead>\n",
       "    <tr style=\"text-align: right;\">\n",
       "      <th></th>\n",
       "      <th>b</th>\n",
       "      <th>d</th>\n",
       "      <th>e</th>\n",
       "    </tr>\n",
       "  </thead>\n",
       "  <tbody>\n",
       "    <tr>\n",
       "      <th>Utah</th>\n",
       "      <td>-0.729602</td>\n",
       "      <td>-0.457167</td>\n",
       "      <td>1.811120</td>\n",
       "    </tr>\n",
       "    <tr>\n",
       "      <th>Ohio</th>\n",
       "      <td>-0.407900</td>\n",
       "      <td>-0.231570</td>\n",
       "      <td>0.833774</td>\n",
       "    </tr>\n",
       "    <tr>\n",
       "      <th>Texas</th>\n",
       "      <td>-0.779708</td>\n",
       "      <td>-0.923775</td>\n",
       "      <td>-0.319383</td>\n",
       "    </tr>\n",
       "    <tr>\n",
       "      <th>Oregon</th>\n",
       "      <td>-0.129744</td>\n",
       "      <td>-1.580398</td>\n",
       "      <td>0.990451</td>\n",
       "    </tr>\n",
       "  </tbody>\n",
       "</table>\n",
       "</div>"
      ],
      "text/plain": [
       "               b         d         e\n",
       "Utah   -0.729602 -0.457167  1.811120\n",
       "Ohio   -0.407900 -0.231570  0.833774\n",
       "Texas  -0.779708 -0.923775 -0.319383\n",
       "Oregon -0.129744 -1.580398  0.990451"
      ]
     },
     "execution_count": 55,
     "metadata": {},
     "output_type": "execute_result"
    },
    {
     "data": {
      "text/plain": [
       "b    0.649965\n",
       "d    1.348828\n",
       "e    2.130502\n",
       "dtype: float64"
      ]
     },
     "execution_count": 55,
     "metadata": {},
     "output_type": "execute_result"
    },
    {
     "data": {
      "text/plain": [
       "Utah      2.540721\n",
       "Ohio      1.241674\n",
       "Texas     0.604393\n",
       "Oregon    2.570849\n",
       "dtype: float64"
      ]
     },
     "execution_count": 55,
     "metadata": {},
     "output_type": "execute_result"
    }
   ],
   "source": [
    "### apply 함수\n",
    "frame\n",
    "\n",
    "# f 함수 정의\n",
    "f_apply = lambda x: x.max() - x.min()\n",
    "\n",
    "# 세로 열에 대해 f함수\n",
    "frame.apply(f_apply, axis=0) \n",
    "\n",
    "# 가로 행에 대해 f함수\n",
    "frame.apply(f_apply, axis=1) \n"
   ]
  },
  {
   "cell_type": "code",
   "execution_count": 60,
   "metadata": {},
   "outputs": [
    {
     "data": {
      "text/html": [
       "<div>\n",
       "<style scoped>\n",
       "    .dataframe tbody tr th:only-of-type {\n",
       "        vertical-align: middle;\n",
       "    }\n",
       "\n",
       "    .dataframe tbody tr th {\n",
       "        vertical-align: top;\n",
       "    }\n",
       "\n",
       "    .dataframe thead th {\n",
       "        text-align: right;\n",
       "    }\n",
       "</style>\n",
       "<table border=\"1\" class=\"dataframe\">\n",
       "  <thead>\n",
       "    <tr style=\"text-align: right;\">\n",
       "      <th></th>\n",
       "      <th>b</th>\n",
       "      <th>d</th>\n",
       "      <th>e</th>\n",
       "    </tr>\n",
       "  </thead>\n",
       "  <tbody>\n",
       "    <tr>\n",
       "      <th>Utah</th>\n",
       "      <td>-0.729602</td>\n",
       "      <td>-0.457167</td>\n",
       "      <td>1.811120</td>\n",
       "    </tr>\n",
       "    <tr>\n",
       "      <th>Ohio</th>\n",
       "      <td>-0.407900</td>\n",
       "      <td>-0.231570</td>\n",
       "      <td>0.833774</td>\n",
       "    </tr>\n",
       "    <tr>\n",
       "      <th>Texas</th>\n",
       "      <td>-0.779708</td>\n",
       "      <td>-0.923775</td>\n",
       "      <td>-0.319383</td>\n",
       "    </tr>\n",
       "    <tr>\n",
       "      <th>Oregon</th>\n",
       "      <td>-0.129744</td>\n",
       "      <td>-1.580398</td>\n",
       "      <td>0.990451</td>\n",
       "    </tr>\n",
       "  </tbody>\n",
       "</table>\n",
       "</div>"
      ],
      "text/plain": [
       "               b         d         e\n",
       "Utah   -0.729602 -0.457167  1.811120\n",
       "Ohio   -0.407900 -0.231570  0.833774\n",
       "Texas  -0.779708 -0.923775 -0.319383\n",
       "Oregon -0.129744 -1.580398  0.990451"
      ]
     },
     "execution_count": 60,
     "metadata": {},
     "output_type": "execute_result"
    },
    {
     "data": {
      "text/html": [
       "<div>\n",
       "<style scoped>\n",
       "    .dataframe tbody tr th:only-of-type {\n",
       "        vertical-align: middle;\n",
       "    }\n",
       "\n",
       "    .dataframe tbody tr th {\n",
       "        vertical-align: top;\n",
       "    }\n",
       "\n",
       "    .dataframe thead th {\n",
       "        text-align: right;\n",
       "    }\n",
       "</style>\n",
       "<table border=\"1\" class=\"dataframe\">\n",
       "  <thead>\n",
       "    <tr style=\"text-align: right;\">\n",
       "      <th></th>\n",
       "      <th>b</th>\n",
       "      <th>d</th>\n",
       "      <th>e</th>\n",
       "    </tr>\n",
       "  </thead>\n",
       "  <tbody>\n",
       "    <tr>\n",
       "      <th>Utah</th>\n",
       "      <td>-0.730</td>\n",
       "      <td>-0.457</td>\n",
       "      <td>1.811</td>\n",
       "    </tr>\n",
       "    <tr>\n",
       "      <th>Ohio</th>\n",
       "      <td>-0.408</td>\n",
       "      <td>-0.232</td>\n",
       "      <td>0.834</td>\n",
       "    </tr>\n",
       "    <tr>\n",
       "      <th>Texas</th>\n",
       "      <td>-0.780</td>\n",
       "      <td>-0.924</td>\n",
       "      <td>-0.319</td>\n",
       "    </tr>\n",
       "    <tr>\n",
       "      <th>Oregon</th>\n",
       "      <td>-0.130</td>\n",
       "      <td>-1.580</td>\n",
       "      <td>0.990</td>\n",
       "    </tr>\n",
       "  </tbody>\n",
       "</table>\n",
       "</div>"
      ],
      "text/plain": [
       "             b       d       e\n",
       "Utah    -0.730  -0.457   1.811\n",
       "Ohio    -0.408  -0.232   0.834\n",
       "Texas   -0.780  -0.924  -0.319\n",
       "Oregon  -0.130  -1.580   0.990"
      ]
     },
     "execution_count": 60,
     "metadata": {},
     "output_type": "execute_result"
    }
   ],
   "source": [
    "### applymap 함수\n",
    "# apply가 DataFrame의 행, 열로 접근, applymap 은 그 각각의 데이터에 접근\n",
    "frame\n",
    "\n",
    "f_applymap = lambda x: '%.3f' % x\n",
    "frame.applymap(f_applymap)"
   ]
  },
  {
   "cell_type": "markdown",
   "metadata": {},
   "source": [
    "## 변위치 분석과 버킷 분석\n",
    "- cut함수와 qcut 메서드 이용. 선택한 크기만큼 표본 변위치에 따라 데이터를 나눔\n",
    "- N등분 및, group apply, unstack"
   ]
  },
  {
   "cell_type": "code",
   "execution_count": 69,
   "metadata": {},
   "outputs": [
    {
     "data": {
      "text/plain": [
       "0     (-1.639, -0.547]\n",
       "1      (-0.547, 0.546]\n",
       "2      (-0.547, 0.546]\n",
       "3       (0.546, 1.638]\n",
       "4     (-1.639, -0.547]\n",
       "            ...       \n",
       "95      (0.546, 1.638]\n",
       "96    (-2.736, -1.639]\n",
       "97     (-0.547, 0.546]\n",
       "98    (-1.639, -0.547]\n",
       "99     (-0.547, 0.546]\n",
       "Name: data1, Length: 100, dtype: category\n",
       "Categories (4, interval[float64]): [(-2.736, -1.639] < (-1.639, -0.547] < (-0.547, 0.546] < (0.546, 1.638]]"
      ]
     },
     "execution_count": 69,
     "metadata": {},
     "output_type": "execute_result"
    }
   ],
   "source": [
    "frame2 = pd.DataFrame({'data1':np.random.randn(100),\n",
    "                       'data2':np.random.randn(100)})\n",
    "\n",
    "# 4등분 하기\n",
    "quartiles = pd.cut(frame2.data1, 4)\n",
    "quartiles"
   ]
  },
  {
   "cell_type": "code",
   "execution_count": 75,
   "metadata": {},
   "outputs": [
    {
     "data": {
      "text/plain": [
       "data1\n",
       "(-2.736, -1.639]    0.151850\n",
       "(-1.639, -0.547]   -0.090475\n",
       "(-0.547, 0.546]    -0.032136\n",
       "(0.546, 1.638]     -0.025809\n",
       "Name: data2, dtype: float64"
      ]
     },
     "execution_count": 75,
     "metadata": {},
     "output_type": "execute_result"
    },
    {
     "data": {
      "text/plain": [
       "data1                  \n",
       "(-2.736, -1.639]  min       0.048876\n",
       "                  max       0.254824\n",
       "                  count     2.000000\n",
       "                  mean      0.151850\n",
       "(-1.639, -0.547]  min      -1.617784\n",
       "                  max       2.612791\n",
       "                  count    23.000000\n",
       "                  mean     -0.090475\n",
       "(-0.547, 0.546]   min      -1.684224\n",
       "                  max       1.574596\n",
       "                  count    49.000000\n",
       "                  mean     -0.032136\n",
       "(0.546, 1.638]    min      -1.285595\n",
       "                  max       2.455663\n",
       "                  count    26.000000\n",
       "                  mean     -0.025809\n",
       "Name: data2, dtype: float64"
      ]
     },
     "execution_count": 75,
     "metadata": {},
     "output_type": "execute_result"
    },
    {
     "data": {
      "text/html": [
       "<div>\n",
       "<style scoped>\n",
       "    .dataframe tbody tr th:only-of-type {\n",
       "        vertical-align: middle;\n",
       "    }\n",
       "\n",
       "    .dataframe tbody tr th {\n",
       "        vertical-align: top;\n",
       "    }\n",
       "\n",
       "    .dataframe thead th {\n",
       "        text-align: right;\n",
       "    }\n",
       "</style>\n",
       "<table border=\"1\" class=\"dataframe\">\n",
       "  <thead>\n",
       "    <tr style=\"text-align: right;\">\n",
       "      <th></th>\n",
       "      <th>min</th>\n",
       "      <th>max</th>\n",
       "      <th>count</th>\n",
       "      <th>mean</th>\n",
       "    </tr>\n",
       "    <tr>\n",
       "      <th>data1</th>\n",
       "      <th></th>\n",
       "      <th></th>\n",
       "      <th></th>\n",
       "      <th></th>\n",
       "    </tr>\n",
       "  </thead>\n",
       "  <tbody>\n",
       "    <tr>\n",
       "      <th>(-2.736, -1.639]</th>\n",
       "      <td>0.048876</td>\n",
       "      <td>0.254824</td>\n",
       "      <td>2.0</td>\n",
       "      <td>0.151850</td>\n",
       "    </tr>\n",
       "    <tr>\n",
       "      <th>(-1.639, -0.547]</th>\n",
       "      <td>-1.617784</td>\n",
       "      <td>2.612791</td>\n",
       "      <td>23.0</td>\n",
       "      <td>-0.090475</td>\n",
       "    </tr>\n",
       "    <tr>\n",
       "      <th>(-0.547, 0.546]</th>\n",
       "      <td>-1.684224</td>\n",
       "      <td>1.574596</td>\n",
       "      <td>49.0</td>\n",
       "      <td>-0.032136</td>\n",
       "    </tr>\n",
       "    <tr>\n",
       "      <th>(0.546, 1.638]</th>\n",
       "      <td>-1.285595</td>\n",
       "      <td>2.455663</td>\n",
       "      <td>26.0</td>\n",
       "      <td>-0.025809</td>\n",
       "    </tr>\n",
       "  </tbody>\n",
       "</table>\n",
       "</div>"
      ],
      "text/plain": [
       "                       min       max  count      mean\n",
       "data1                                                \n",
       "(-2.736, -1.639]  0.048876  0.254824    2.0  0.151850\n",
       "(-1.639, -0.547] -1.617784  2.612791   23.0 -0.090475\n",
       "(-0.547, 0.546]  -1.684224  1.574596   49.0 -0.032136\n",
       "(0.546, 1.638]   -1.285595  2.455663   26.0 -0.025809"
      ]
     },
     "execution_count": 75,
     "metadata": {},
     "output_type": "execute_result"
    }
   ],
   "source": [
    "# 4등분 groupby 결과\n",
    "grouped = frame2.data2.groupby(quartiles)\n",
    "grouped.mean()\n",
    "\n",
    "# min, max, count, mean 구해서 리턴\n",
    "def get_stats(group):\n",
    "    return {'min':group.min(), 'max':group.max(),\n",
    "             'count':group.count(), 'mean':group.mean()}\n",
    "\n",
    "grouped_all = grouped.apply(get_stats)\n",
    "grouped_all\n",
    "\n",
    "# unstack 으로 group형 풀기\n",
    "grouped_all.unstack()"
   ]
  }
 ],
 "metadata": {
  "kernelspec": {
   "display_name": "Python 3",
   "language": "python",
   "name": "python3"
  },
  "language_info": {
   "codemirror_mode": {
    "name": "ipython",
    "version": 3
   },
   "file_extension": ".py",
   "mimetype": "text/x-python",
   "name": "python",
   "nbconvert_exporter": "python",
   "pygments_lexer": "ipython3",
   "version": "3.7.5"
  }
 },
 "nbformat": 4,
 "nbformat_minor": 4
}
