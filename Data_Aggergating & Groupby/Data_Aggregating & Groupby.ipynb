{
 "cells": [
  {
   "cell_type": "markdown",
   "metadata": {},
   "source": [
    "## 데이터 집계와 그룹 연산\n",
    "- 하나 이상의 키(함수, 배열, DataFrame 컬럼 이름)을 이용해서 pandas 객체를 여러 조각으로 나누는 방법\n",
    "- 합계, 평균, 표준편차 사용자 정의 함수 같은 그룹 요약 통계를 계산하는 방법\n",
    "- 정규화, 선형회귀 , 등급 또는 부분집합 선택 같은 집단 내 변형이나 다른 조작을 적용하는 방법\n",
    "- 변위치 분석과 다른 통계 집단 분석을 수행하는 방법\n",
    "\n",
    "- **기본 Pandas 함수 에서 제거**\n",
    "- **시계열 데이터의 집계의 경우 groupby = 리샘플링방법(resampling)**\n",
    "- **사용방법    ==>     데이터.groupby(['열이름']).적용함수()**\n",
    "\n",
    "![그룹연산예시](imgs/그룹연산예시.png)"
   ]
  },
  {
   "cell_type": "markdown",
   "metadata": {},
   "source": [
    "## 데이터 선언"
   ]
  },
  {
   "cell_type": "code",
   "execution_count": 2,
   "metadata": {},
   "outputs": [
    {
     "data": {
      "text/html": [
       "<div>\n",
       "<style scoped>\n",
       "    .dataframe tbody tr th:only-of-type {\n",
       "        vertical-align: middle;\n",
       "    }\n",
       "\n",
       "    .dataframe tbody tr th {\n",
       "        vertical-align: top;\n",
       "    }\n",
       "\n",
       "    .dataframe thead th {\n",
       "        text-align: right;\n",
       "    }\n",
       "</style>\n",
       "<table border=\"1\" class=\"dataframe\">\n",
       "  <thead>\n",
       "    <tr style=\"text-align: right;\">\n",
       "      <th></th>\n",
       "      <th>key1</th>\n",
       "      <th>key2</th>\n",
       "      <th>data1</th>\n",
       "      <th>data2</th>\n",
       "    </tr>\n",
       "  </thead>\n",
       "  <tbody>\n",
       "    <tr>\n",
       "      <th>0</th>\n",
       "      <td>a</td>\n",
       "      <td>one</td>\n",
       "      <td>0.029025</td>\n",
       "      <td>-0.111866</td>\n",
       "    </tr>\n",
       "    <tr>\n",
       "      <th>1</th>\n",
       "      <td>a</td>\n",
       "      <td>two</td>\n",
       "      <td>3.266890</td>\n",
       "      <td>-0.040411</td>\n",
       "    </tr>\n",
       "    <tr>\n",
       "      <th>2</th>\n",
       "      <td>b</td>\n",
       "      <td>one</td>\n",
       "      <td>1.294717</td>\n",
       "      <td>0.474068</td>\n",
       "    </tr>\n",
       "    <tr>\n",
       "      <th>3</th>\n",
       "      <td>b</td>\n",
       "      <td>two</td>\n",
       "      <td>-1.679941</td>\n",
       "      <td>-1.802673</td>\n",
       "    </tr>\n",
       "    <tr>\n",
       "      <th>4</th>\n",
       "      <td>a</td>\n",
       "      <td>one</td>\n",
       "      <td>0.518017</td>\n",
       "      <td>0.735157</td>\n",
       "    </tr>\n",
       "  </tbody>\n",
       "</table>\n",
       "</div>"
      ],
      "text/plain": [
       "  key1 key2     data1     data2\n",
       "0    a  one  0.029025 -0.111866\n",
       "1    a  two  3.266890 -0.040411\n",
       "2    b  one  1.294717  0.474068\n",
       "3    b  two -1.679941 -1.802673\n",
       "4    a  one  0.518017  0.735157"
      ]
     },
     "execution_count": 2,
     "metadata": {},
     "output_type": "execute_result"
    }
   ],
   "source": [
    "import numpy as np\n",
    "import pandas as pd\n",
    "\n",
    "# 여러개 쳐도 나오게\n",
    "from IPython.core.interactiveshell import InteractiveShell\n",
    "InteractiveShell.ast_node_interactivity = \"all\"\n",
    "\n",
    "df = pd.DataFrame({'key1':['a','a','b','b','a'],\n",
    "                   'key2':['one','two','one','two','one'],\n",
    "                   'data1': np.random.randn(5),\n",
    "                   'data2': np.random.randn(5)})\n",
    "df"
   ]
  },
  {
   "cell_type": "markdown",
   "metadata": {},
   "source": [
    "## groupby 객체"
   ]
  },
  {
   "cell_type": "code",
   "execution_count": 2,
   "metadata": {},
   "outputs": [
    {
     "data": {
      "text/plain": [
       "<pandas.core.groupby.generic.SeriesGroupBy object at 0x000002588DA7B808>"
      ]
     },
     "execution_count": 2,
     "metadata": {},
     "output_type": "execute_result"
    },
    {
     "data": {
      "text/plain": [
       "key1\n",
       "a    1.329631\n",
       "b   -0.657682\n",
       "Name: data1, dtype: float64"
      ]
     },
     "execution_count": 2,
     "metadata": {},
     "output_type": "execute_result"
    }
   ],
   "source": [
    "# grouped 변수는 GroupBy객체이고, 그룹연산을 위해 필요한 정보를 가지고 있는 것.\n",
    "grouped = df['data1'].groupby(df['key1'])\n",
    "grouped\n",
    "\n",
    "# 그룹별 평균 구하기.\n",
    "grouped.mean()"
   ]
  },
  {
   "cell_type": "markdown",
   "metadata": {},
   "source": [
    "## groupby 옵션"
   ]
  },
  {
   "cell_type": "code",
   "execution_count": 3,
   "metadata": {},
   "outputs": [
    {
     "data": {
      "text/plain": [
       "key1  key2\n",
       "a     one     0.645701\n",
       "      two     2.697491\n",
       "b     one    -2.177184\n",
       "      two     0.861819\n",
       "Name: data1, dtype: float64"
      ]
     },
     "execution_count": 3,
     "metadata": {},
     "output_type": "execute_result"
    },
    {
     "data": {
      "text/plain": [
       "key1  key2\n",
       "a     one     2\n",
       "      two     1\n",
       "b     one     1\n",
       "      two     1\n",
       "Name: data1, dtype: int64"
      ]
     },
     "execution_count": 3,
     "metadata": {},
     "output_type": "execute_result"
    }
   ],
   "source": [
    "# mean\n",
    "means = df['data1'].groupby([df['key1'], df['key2']]).mean()\n",
    "means\n",
    "\n",
    "# size\n",
    "sizes = df['data1'].groupby([df['key1'], df['key2']]).size()\n",
    "sizes"
   ]
  },
  {
   "cell_type": "markdown",
   "metadata": {},
   "source": [
    "## Unstack 계층해제하기"
   ]
  },
  {
   "cell_type": "code",
   "execution_count": 4,
   "metadata": {},
   "outputs": [
    {
     "data": {
      "text/html": [
       "<div>\n",
       "<style scoped>\n",
       "    .dataframe tbody tr th:only-of-type {\n",
       "        vertical-align: middle;\n",
       "    }\n",
       "\n",
       "    .dataframe tbody tr th {\n",
       "        vertical-align: top;\n",
       "    }\n",
       "\n",
       "    .dataframe thead th {\n",
       "        text-align: right;\n",
       "    }\n",
       "</style>\n",
       "<table border=\"1\" class=\"dataframe\">\n",
       "  <thead>\n",
       "    <tr style=\"text-align: right;\">\n",
       "      <th>key2</th>\n",
       "      <th>one</th>\n",
       "      <th>two</th>\n",
       "    </tr>\n",
       "    <tr>\n",
       "      <th>key1</th>\n",
       "      <th></th>\n",
       "      <th></th>\n",
       "    </tr>\n",
       "  </thead>\n",
       "  <tbody>\n",
       "    <tr>\n",
       "      <th>a</th>\n",
       "      <td>0.645701</td>\n",
       "      <td>2.697491</td>\n",
       "    </tr>\n",
       "    <tr>\n",
       "      <th>b</th>\n",
       "      <td>-2.177184</td>\n",
       "      <td>0.861819</td>\n",
       "    </tr>\n",
       "  </tbody>\n",
       "</table>\n",
       "</div>"
      ],
      "text/plain": [
       "key2       one       two\n",
       "key1                    \n",
       "a     0.645701  2.697491\n",
       "b    -2.177184  0.861819"
      ]
     },
     "execution_count": 4,
     "metadata": {},
     "output_type": "execute_result"
    },
    {
     "name": "stdout",
     "output_type": "stream",
     "text": [
      "<class 'pandas.core.frame.DataFrame'>\n"
     ]
    }
   ],
   "source": [
    "# unstack으로 계층해제하기\n",
    "means.unstack()\n",
    "print(type(means.unstack())) # DataFrame or Series 형태 반환"
   ]
  },
  {
   "cell_type": "markdown",
   "metadata": {},
   "source": [
    "## Groupby 그룹 순회하기"
   ]
  },
  {
   "cell_type": "code",
   "execution_count": 5,
   "metadata": {},
   "outputs": [
    {
     "name": "stdout",
     "output_type": "stream",
     "text": [
      "name a\n",
      "  key1 key2     data1     data2\n",
      "0    a  one  1.267266 -0.254217\n",
      "1    a  two  2.697491 -0.865592\n",
      "4    a  one  0.024136  0.205877 \n",
      "\n",
      "name b\n",
      "  key1 key2     data1     data2\n",
      "2    b  one -2.177184  1.285283\n",
      "3    b  two  0.861819  0.223845 \n",
      "\n"
     ]
    },
    {
     "data": {
      "text/plain": [
       "{'a':   key1 key2     data1     data2\n",
       " 0    a  one  1.267266 -0.254217\n",
       " 1    a  two  2.697491 -0.865592\n",
       " 4    a  one  0.024136  0.205877,\n",
       " 'b':   key1 key2     data1     data2\n",
       " 2    b  one -2.177184  1.285283\n",
       " 3    b  two  0.861819  0.223845}"
      ]
     },
     "execution_count": 5,
     "metadata": {},
     "output_type": "execute_result"
    }
   ],
   "source": [
    "# 그룹간 순회하기\n",
    "for name, group in df.groupby('key1'):\n",
    "    print('name',name)\n",
    "    print(group,'\\n')\n",
    "    \n",
    "    \n",
    "# 그룹순회 - dict형으로 가져오기\n",
    "pieces = dict(list(df.groupby('key1')))\n",
    "pieces"
   ]
  },
  {
   "cell_type": "markdown",
   "metadata": {},
   "source": [
    "## 컬럼이나 컬럼의 일부만 선택하기"
   ]
  },
  {
   "cell_type": "code",
   "execution_count": 19,
   "metadata": {},
   "outputs": [
    {
     "data": {
      "text/html": [
       "<div>\n",
       "<style scoped>\n",
       "    .dataframe tbody tr th:only-of-type {\n",
       "        vertical-align: middle;\n",
       "    }\n",
       "\n",
       "    .dataframe tbody tr th {\n",
       "        vertical-align: top;\n",
       "    }\n",
       "\n",
       "    .dataframe thead th {\n",
       "        text-align: right;\n",
       "    }\n",
       "</style>\n",
       "<table border=\"1\" class=\"dataframe\">\n",
       "  <thead>\n",
       "    <tr style=\"text-align: right;\">\n",
       "      <th></th>\n",
       "      <th></th>\n",
       "      <th>data2</th>\n",
       "    </tr>\n",
       "    <tr>\n",
       "      <th>key1</th>\n",
       "      <th>key2</th>\n",
       "      <th></th>\n",
       "    </tr>\n",
       "  </thead>\n",
       "  <tbody>\n",
       "    <tr>\n",
       "      <th rowspan=\"2\" valign=\"top\">a</th>\n",
       "      <th>one</th>\n",
       "      <td>-0.024170</td>\n",
       "    </tr>\n",
       "    <tr>\n",
       "      <th>two</th>\n",
       "      <td>-0.865592</td>\n",
       "    </tr>\n",
       "    <tr>\n",
       "      <th rowspan=\"2\" valign=\"top\">b</th>\n",
       "      <th>one</th>\n",
       "      <td>1.285283</td>\n",
       "    </tr>\n",
       "    <tr>\n",
       "      <th>two</th>\n",
       "      <td>0.223845</td>\n",
       "    </tr>\n",
       "  </tbody>\n",
       "</table>\n",
       "</div>"
      ],
      "text/plain": [
       "              data2\n",
       "key1 key2          \n",
       "a    one  -0.024170\n",
       "     two  -0.865592\n",
       "b    one   1.285283\n",
       "     two   0.223845"
      ]
     },
     "execution_count": 19,
     "metadata": {},
     "output_type": "execute_result"
    },
    {
     "data": {
      "text/plain": [
       "key1\n",
       "a    1.329631\n",
       "b   -0.657682\n",
       "Name: data1, dtype: float64"
      ]
     },
     "execution_count": 19,
     "metadata": {},
     "output_type": "execute_result"
    }
   ],
   "source": [
    "# 여러 컬럼 선택해서 (key1, key2) data2 groupby\n",
    "df_ = df.groupby(['key1','key2'])[['data2']].mean()\n",
    "df_\n",
    "\n",
    "# 컬럼의 일부만 선택해서 groupby\n",
    "df['data1'].groupby(df['key1']).mean()"
   ]
  },
  {
   "cell_type": "markdown",
   "metadata": {},
   "source": [
    "## Groupby 후에 다시 인덱스로 올리기"
   ]
  },
  {
   "cell_type": "code",
   "execution_count": 20,
   "metadata": {},
   "outputs": [
    {
     "data": {
      "text/html": [
       "<div>\n",
       "<style scoped>\n",
       "    .dataframe tbody tr th:only-of-type {\n",
       "        vertical-align: middle;\n",
       "    }\n",
       "\n",
       "    .dataframe tbody tr th {\n",
       "        vertical-align: top;\n",
       "    }\n",
       "\n",
       "    .dataframe thead th {\n",
       "        text-align: right;\n",
       "    }\n",
       "</style>\n",
       "<table border=\"1\" class=\"dataframe\">\n",
       "  <thead>\n",
       "    <tr style=\"text-align: right;\">\n",
       "      <th></th>\n",
       "      <th>key2</th>\n",
       "      <th>data2</th>\n",
       "    </tr>\n",
       "    <tr>\n",
       "      <th>key1</th>\n",
       "      <th></th>\n",
       "      <th></th>\n",
       "    </tr>\n",
       "  </thead>\n",
       "  <tbody>\n",
       "    <tr>\n",
       "      <th>a</th>\n",
       "      <td>one</td>\n",
       "      <td>-0.024170</td>\n",
       "    </tr>\n",
       "    <tr>\n",
       "      <th>a</th>\n",
       "      <td>two</td>\n",
       "      <td>-0.865592</td>\n",
       "    </tr>\n",
       "    <tr>\n",
       "      <th>b</th>\n",
       "      <td>one</td>\n",
       "      <td>1.285283</td>\n",
       "    </tr>\n",
       "    <tr>\n",
       "      <th>b</th>\n",
       "      <td>two</td>\n",
       "      <td>0.223845</td>\n",
       "    </tr>\n",
       "  </tbody>\n",
       "</table>\n",
       "</div>"
      ],
      "text/plain": [
       "     key2     data2\n",
       "key1               \n",
       "a     one -0.024170\n",
       "a     two -0.865592\n",
       "b     one  1.285283\n",
       "b     two  0.223845"
      ]
     },
     "execution_count": 20,
     "metadata": {},
     "output_type": "execute_result"
    }
   ],
   "source": [
    "# groupby 후에 다시 인덱스로 올리기\n",
    "df_.reset_index(level=['key2'], inplace = True)\n",
    "df_"
   ]
  },
  {
   "cell_type": "markdown",
   "metadata": {},
   "source": [
    "## 사전과 Series에서 그룹핑하기\n",
    "- 그룹 정보는 배열이 아닌 형태로 존재하기도 한다.\n",
    "- dict 형태로 존재할 때 키값으로 데이터 모으고 value로 컬럼 데이터"
   ]
  },
  {
   "cell_type": "code",
   "execution_count": 3,
   "metadata": {},
   "outputs": [
    {
     "data": {
      "text/html": [
       "<div>\n",
       "<style scoped>\n",
       "    .dataframe tbody tr th:only-of-type {\n",
       "        vertical-align: middle;\n",
       "    }\n",
       "\n",
       "    .dataframe tbody tr th {\n",
       "        vertical-align: top;\n",
       "    }\n",
       "\n",
       "    .dataframe thead th {\n",
       "        text-align: right;\n",
       "    }\n",
       "</style>\n",
       "<table border=\"1\" class=\"dataframe\">\n",
       "  <thead>\n",
       "    <tr style=\"text-align: right;\">\n",
       "      <th></th>\n",
       "      <th>a</th>\n",
       "      <th>b</th>\n",
       "      <th>c</th>\n",
       "      <th>d</th>\n",
       "      <th>e</th>\n",
       "    </tr>\n",
       "  </thead>\n",
       "  <tbody>\n",
       "    <tr>\n",
       "      <th>Joe</th>\n",
       "      <td>-0.963329</td>\n",
       "      <td>0.293012</td>\n",
       "      <td>-0.431010</td>\n",
       "      <td>0.810290</td>\n",
       "      <td>-0.004803</td>\n",
       "    </tr>\n",
       "    <tr>\n",
       "      <th>Steve</th>\n",
       "      <td>-0.722855</td>\n",
       "      <td>0.841290</td>\n",
       "      <td>1.329151</td>\n",
       "      <td>-0.309410</td>\n",
       "      <td>-1.102417</td>\n",
       "    </tr>\n",
       "    <tr>\n",
       "      <th>Wes</th>\n",
       "      <td>-0.681956</td>\n",
       "      <td>-0.273263</td>\n",
       "      <td>-0.101124</td>\n",
       "      <td>-2.154797</td>\n",
       "      <td>1.503882</td>\n",
       "    </tr>\n",
       "    <tr>\n",
       "      <th>Jim</th>\n",
       "      <td>-0.636099</td>\n",
       "      <td>0.817643</td>\n",
       "      <td>-0.671899</td>\n",
       "      <td>-0.671492</td>\n",
       "      <td>0.017222</td>\n",
       "    </tr>\n",
       "    <tr>\n",
       "      <th>Travis</th>\n",
       "      <td>0.340191</td>\n",
       "      <td>-0.345894</td>\n",
       "      <td>1.445750</td>\n",
       "      <td>0.018717</td>\n",
       "      <td>-0.525078</td>\n",
       "    </tr>\n",
       "  </tbody>\n",
       "</table>\n",
       "</div>"
      ],
      "text/plain": [
       "               a         b         c         d         e\n",
       "Joe    -0.963329  0.293012 -0.431010  0.810290 -0.004803\n",
       "Steve  -0.722855  0.841290  1.329151 -0.309410 -1.102417\n",
       "Wes    -0.681956 -0.273263 -0.101124 -2.154797  1.503882\n",
       "Jim    -0.636099  0.817643 -0.671899 -0.671492  0.017222\n",
       "Travis  0.340191 -0.345894  1.445750  0.018717 -0.525078"
      ]
     },
     "execution_count": 3,
     "metadata": {},
     "output_type": "execute_result"
    },
    {
     "data": {
      "text/plain": [
       "{'a': 'red', 'b': 'red', 'c': 'blue', 'd': 'blue', 'e': 'red', 'f': 'orange'}"
      ]
     },
     "execution_count": 3,
     "metadata": {},
     "output_type": "execute_result"
    },
    {
     "name": "stdout",
     "output_type": "stream",
     "text": [
      "groupby 기준 dictionary\n"
     ]
    },
    {
     "data": {
      "text/html": [
       "<div>\n",
       "<style scoped>\n",
       "    .dataframe tbody tr th:only-of-type {\n",
       "        vertical-align: middle;\n",
       "    }\n",
       "\n",
       "    .dataframe tbody tr th {\n",
       "        vertical-align: top;\n",
       "    }\n",
       "\n",
       "    .dataframe thead th {\n",
       "        text-align: right;\n",
       "    }\n",
       "</style>\n",
       "<table border=\"1\" class=\"dataframe\">\n",
       "  <thead>\n",
       "    <tr style=\"text-align: right;\">\n",
       "      <th></th>\n",
       "      <th>a</th>\n",
       "      <th>b</th>\n",
       "      <th>c</th>\n",
       "      <th>d</th>\n",
       "      <th>e</th>\n",
       "    </tr>\n",
       "  </thead>\n",
       "  <tbody>\n",
       "    <tr>\n",
       "      <th>Joe</th>\n",
       "      <td>-0.963329</td>\n",
       "      <td>0.293012</td>\n",
       "      <td>-0.431010</td>\n",
       "      <td>0.810290</td>\n",
       "      <td>-0.004803</td>\n",
       "    </tr>\n",
       "    <tr>\n",
       "      <th>Steve</th>\n",
       "      <td>-0.722855</td>\n",
       "      <td>0.841290</td>\n",
       "      <td>1.329151</td>\n",
       "      <td>-0.309410</td>\n",
       "      <td>-1.102417</td>\n",
       "    </tr>\n",
       "    <tr>\n",
       "      <th>Wes</th>\n",
       "      <td>-0.681956</td>\n",
       "      <td>NaN</td>\n",
       "      <td>NaN</td>\n",
       "      <td>-2.154797</td>\n",
       "      <td>1.503882</td>\n",
       "    </tr>\n",
       "    <tr>\n",
       "      <th>Jim</th>\n",
       "      <td>-0.636099</td>\n",
       "      <td>0.817643</td>\n",
       "      <td>-0.671899</td>\n",
       "      <td>-0.671492</td>\n",
       "      <td>0.017222</td>\n",
       "    </tr>\n",
       "    <tr>\n",
       "      <th>Travis</th>\n",
       "      <td>0.340191</td>\n",
       "      <td>-0.345894</td>\n",
       "      <td>1.445750</td>\n",
       "      <td>0.018717</td>\n",
       "      <td>-0.525078</td>\n",
       "    </tr>\n",
       "  </tbody>\n",
       "</table>\n",
       "</div>"
      ],
      "text/plain": [
       "               a         b         c         d         e\n",
       "Joe    -0.963329  0.293012 -0.431010  0.810290 -0.004803\n",
       "Steve  -0.722855  0.841290  1.329151 -0.309410 -1.102417\n",
       "Wes    -0.681956       NaN       NaN -2.154797  1.503882\n",
       "Jim    -0.636099  0.817643 -0.671899 -0.671492  0.017222\n",
       "Travis  0.340191 -0.345894  1.445750  0.018717 -0.525078"
      ]
     },
     "execution_count": 3,
     "metadata": {},
     "output_type": "execute_result"
    },
    {
     "name": "stdout",
     "output_type": "stream",
     "text": [
      "people data\n"
     ]
    },
    {
     "data": {
      "text/html": [
       "<div>\n",
       "<style scoped>\n",
       "    .dataframe tbody tr th:only-of-type {\n",
       "        vertical-align: middle;\n",
       "    }\n",
       "\n",
       "    .dataframe tbody tr th {\n",
       "        vertical-align: top;\n",
       "    }\n",
       "\n",
       "    .dataframe thead th {\n",
       "        text-align: right;\n",
       "    }\n",
       "</style>\n",
       "<table border=\"1\" class=\"dataframe\">\n",
       "  <thead>\n",
       "    <tr style=\"text-align: right;\">\n",
       "      <th></th>\n",
       "      <th>blue</th>\n",
       "      <th>red</th>\n",
       "    </tr>\n",
       "  </thead>\n",
       "  <tbody>\n",
       "    <tr>\n",
       "      <th>Joe</th>\n",
       "      <td>0.379279</td>\n",
       "      <td>-0.675120</td>\n",
       "    </tr>\n",
       "    <tr>\n",
       "      <th>Steve</th>\n",
       "      <td>1.019742</td>\n",
       "      <td>-0.983982</td>\n",
       "    </tr>\n",
       "    <tr>\n",
       "      <th>Wes</th>\n",
       "      <td>-2.154797</td>\n",
       "      <td>0.821926</td>\n",
       "    </tr>\n",
       "    <tr>\n",
       "      <th>Jim</th>\n",
       "      <td>-1.343391</td>\n",
       "      <td>0.198766</td>\n",
       "    </tr>\n",
       "    <tr>\n",
       "      <th>Travis</th>\n",
       "      <td>1.464466</td>\n",
       "      <td>-0.530780</td>\n",
       "    </tr>\n",
       "  </tbody>\n",
       "</table>\n",
       "</div>"
      ],
      "text/plain": [
       "            blue       red\n",
       "Joe     0.379279 -0.675120\n",
       "Steve   1.019742 -0.983982\n",
       "Wes    -2.154797  0.821926\n",
       "Jim    -1.343391  0.198766\n",
       "Travis  1.464466 -0.530780"
      ]
     },
     "execution_count": 3,
     "metadata": {},
     "output_type": "execute_result"
    },
    {
     "name": "stdout",
     "output_type": "stream",
     "text": [
      "groupby 계산결과\n"
     ]
    }
   ],
   "source": [
    "people = pd.DataFrame(np.random.randn(5,5), \n",
    "                      columns=['a','b','c','d','e'],\n",
    "                     index = ['Joe','Steve','Wes','Jim','Travis'])\n",
    "people\n",
    "\n",
    "# 2행 (1번,2번 컬럼) nan\n",
    "people.iloc[2:3, [1,2]] = np.nan\n",
    "\n",
    "# dict\n",
    "mapping = {'a':'red','b':'red','c':'blue','d':'blue',\n",
    "           'e':'red','e':'red','f':'orange'}\n",
    "mapping\n",
    "print('groupby 기준 dictionary')\n",
    "\n",
    "# people\n",
    "people\n",
    "print('people data')\n",
    "\n",
    "# groupyby - dict\n",
    "by_column = people.groupby(mapping, axis=1)\n",
    "by_column.sum()\n",
    "print('groupby 계산결과')"
   ]
  },
  {
   "cell_type": "markdown",
   "metadata": {},
   "source": [
    "## 함수로 그룹핑하기\n",
    "- 색인값으로 row 인덱스를 쓴다는 것 명심"
   ]
  },
  {
   "cell_type": "code",
   "execution_count": 8,
   "metadata": {},
   "outputs": [
    {
     "data": {
      "text/html": [
       "<div>\n",
       "<style scoped>\n",
       "    .dataframe tbody tr th:only-of-type {\n",
       "        vertical-align: middle;\n",
       "    }\n",
       "\n",
       "    .dataframe tbody tr th {\n",
       "        vertical-align: top;\n",
       "    }\n",
       "\n",
       "    .dataframe thead th {\n",
       "        text-align: right;\n",
       "    }\n",
       "</style>\n",
       "<table border=\"1\" class=\"dataframe\">\n",
       "  <thead>\n",
       "    <tr style=\"text-align: right;\">\n",
       "      <th></th>\n",
       "      <th>a</th>\n",
       "      <th>b</th>\n",
       "      <th>c</th>\n",
       "      <th>d</th>\n",
       "      <th>e</th>\n",
       "    </tr>\n",
       "  </thead>\n",
       "  <tbody>\n",
       "    <tr>\n",
       "      <th>3</th>\n",
       "      <td>2.182800</td>\n",
       "      <td>0.322946</td>\n",
       "      <td>0.902328</td>\n",
       "      <td>1.642223</td>\n",
       "      <td>1.847107</td>\n",
       "    </tr>\n",
       "    <tr>\n",
       "      <th>5</th>\n",
       "      <td>-0.256916</td>\n",
       "      <td>-1.209834</td>\n",
       "      <td>-1.665202</td>\n",
       "      <td>-1.128335</td>\n",
       "      <td>-0.521307</td>\n",
       "    </tr>\n",
       "    <tr>\n",
       "      <th>6</th>\n",
       "      <td>-0.076581</td>\n",
       "      <td>-2.150225</td>\n",
       "      <td>1.329538</td>\n",
       "      <td>0.513535</td>\n",
       "      <td>0.982293</td>\n",
       "    </tr>\n",
       "  </tbody>\n",
       "</table>\n",
       "</div>"
      ],
      "text/plain": [
       "          a         b         c         d         e\n",
       "3  2.182800  0.322946  0.902328  1.642223  1.847107\n",
       "5 -0.256916 -1.209834 -1.665202 -1.128335 -0.521307\n",
       "6 -0.076581 -2.150225  1.329538  0.513535  0.982293"
      ]
     },
     "execution_count": 8,
     "metadata": {},
     "output_type": "execute_result"
    },
    {
     "data": {
      "text/html": [
       "<div>\n",
       "<style scoped>\n",
       "    .dataframe tbody tr th:only-of-type {\n",
       "        vertical-align: middle;\n",
       "    }\n",
       "\n",
       "    .dataframe tbody tr th {\n",
       "        vertical-align: top;\n",
       "    }\n",
       "\n",
       "    .dataframe thead th {\n",
       "        text-align: right;\n",
       "    }\n",
       "</style>\n",
       "<table border=\"1\" class=\"dataframe\">\n",
       "  <thead>\n",
       "    <tr style=\"text-align: right;\">\n",
       "      <th></th>\n",
       "      <th>a</th>\n",
       "      <th>b</th>\n",
       "      <th>c</th>\n",
       "      <th>d</th>\n",
       "      <th>e</th>\n",
       "    </tr>\n",
       "  </thead>\n",
       "  <tbody>\n",
       "    <tr>\n",
       "      <th>3</th>\n",
       "      <td>2.182800</td>\n",
       "      <td>0.322946</td>\n",
       "      <td>0.902328</td>\n",
       "      <td>1.642223</td>\n",
       "      <td>1.847107</td>\n",
       "    </tr>\n",
       "    <tr>\n",
       "      <th>5</th>\n",
       "      <td>-0.256916</td>\n",
       "      <td>-1.209834</td>\n",
       "      <td>-1.665202</td>\n",
       "      <td>-1.128335</td>\n",
       "      <td>-0.521307</td>\n",
       "    </tr>\n",
       "    <tr>\n",
       "      <th>6</th>\n",
       "      <td>-0.076581</td>\n",
       "      <td>-2.150225</td>\n",
       "      <td>1.329538</td>\n",
       "      <td>0.513535</td>\n",
       "      <td>0.982293</td>\n",
       "    </tr>\n",
       "  </tbody>\n",
       "</table>\n",
       "</div>"
      ],
      "text/plain": [
       "          a         b         c         d         e\n",
       "3  2.182800  0.322946  0.902328  1.642223  1.847107\n",
       "5 -0.256916 -1.209834 -1.665202 -1.128335 -0.521307\n",
       "6 -0.076581 -2.150225  1.329538  0.513535  0.982293"
      ]
     },
     "execution_count": 8,
     "metadata": {},
     "output_type": "execute_result"
    },
    {
     "data": {
      "text/html": [
       "<div>\n",
       "<style scoped>\n",
       "    .dataframe tbody tr th:only-of-type {\n",
       "        vertical-align: middle;\n",
       "    }\n",
       "\n",
       "    .dataframe tbody tr th {\n",
       "        vertical-align: top;\n",
       "    }\n",
       "\n",
       "    .dataframe thead th {\n",
       "        text-align: right;\n",
       "    }\n",
       "</style>\n",
       "<table border=\"1\" class=\"dataframe\">\n",
       "  <thead>\n",
       "    <tr style=\"text-align: right;\">\n",
       "      <th></th>\n",
       "      <th></th>\n",
       "      <th>a</th>\n",
       "      <th>b</th>\n",
       "      <th>c</th>\n",
       "      <th>d</th>\n",
       "      <th>e</th>\n",
       "    </tr>\n",
       "  </thead>\n",
       "  <tbody>\n",
       "    <tr>\n",
       "      <th rowspan=\"2\" valign=\"top\">3</th>\n",
       "      <th>one</th>\n",
       "      <td>0.942263</td>\n",
       "      <td>-1.138996</td>\n",
       "      <td>0.788227</td>\n",
       "      <td>-0.967487</td>\n",
       "      <td>0.128181</td>\n",
       "    </tr>\n",
       "    <tr>\n",
       "      <th>two</th>\n",
       "      <td>-0.165298</td>\n",
       "      <td>1.461942</td>\n",
       "      <td>0.114100</td>\n",
       "      <td>-0.083197</td>\n",
       "      <td>0.231558</td>\n",
       "    </tr>\n",
       "    <tr>\n",
       "      <th>5</th>\n",
       "      <th>one</th>\n",
       "      <td>-0.256916</td>\n",
       "      <td>-1.209834</td>\n",
       "      <td>-1.665202</td>\n",
       "      <td>-1.128335</td>\n",
       "      <td>-0.521307</td>\n",
       "    </tr>\n",
       "    <tr>\n",
       "      <th>6</th>\n",
       "      <th>two</th>\n",
       "      <td>-0.076581</td>\n",
       "      <td>-2.150225</td>\n",
       "      <td>1.329538</td>\n",
       "      <td>0.513535</td>\n",
       "      <td>0.982293</td>\n",
       "    </tr>\n",
       "  </tbody>\n",
       "</table>\n",
       "</div>"
      ],
      "text/plain": [
       "              a         b         c         d         e\n",
       "3 one  0.942263 -1.138996  0.788227 -0.967487  0.128181\n",
       "  two -0.165298  1.461942  0.114100 -0.083197  0.231558\n",
       "5 one -0.256916 -1.209834 -1.665202 -1.128335 -0.521307\n",
       "6 two -0.076581 -2.150225  1.329538  0.513535  0.982293"
      ]
     },
     "execution_count": 8,
     "metadata": {},
     "output_type": "execute_result"
    }
   ],
   "source": [
    "# 이름의 길이별로 합계 통계\n",
    "people.groupby(len).sum() # len 이라고 쓰면 그 기준이 알아서 index의 len이 됨.\n",
    "\n",
    "# 이름의 길이별로 합계 통계 2\n",
    "ls = [3,5,3,3,6]\n",
    "people.groupby(ls).sum()\n",
    "\n",
    "# len 과 key_list 분류로 이어짐\n",
    "key_list=['one','one','one','two','two']\n",
    "people.groupby([len, key_list]).min()"
   ]
  },
  {
   "cell_type": "markdown",
   "metadata": {},
   "source": [
    "## 데이터 집계\n",
    "- 데이터 집계는 배열로부터 스칼라값을 만들어내는 모든 데이터 변환 작업을 말함.\n",
    "- 집계함수는 일반적으로 좀더 느리게 동작하는데, 중간 데이터를 생성하는 과정에서 함수 호출이나 데이터 정렬 같은 오버헤드가발생하기 때문\n",
    "- count, sum, mean, median, std, var, min, max, prod(NA가 아닌 값들의 곱), first(NA가 아닌 값들 중 첫번째값), last(NA가 아닌 값들 중 마지막값)\n",
    "- quantile은 groupby를 위해서 구현되진않았고, Series메서드로 사용가능."
   ]
  },
  {
   "cell_type": "code",
   "execution_count": 9,
   "metadata": {},
   "outputs": [
    {
     "data": {
      "text/html": [
       "<div>\n",
       "<style scoped>\n",
       "    .dataframe tbody tr th:only-of-type {\n",
       "        vertical-align: middle;\n",
       "    }\n",
       "\n",
       "    .dataframe tbody tr th {\n",
       "        vertical-align: top;\n",
       "    }\n",
       "\n",
       "    .dataframe thead th {\n",
       "        text-align: right;\n",
       "    }\n",
       "</style>\n",
       "<table border=\"1\" class=\"dataframe\">\n",
       "  <thead>\n",
       "    <tr style=\"text-align: right;\">\n",
       "      <th></th>\n",
       "      <th>key1</th>\n",
       "      <th>key2</th>\n",
       "      <th>data1</th>\n",
       "      <th>data2</th>\n",
       "    </tr>\n",
       "  </thead>\n",
       "  <tbody>\n",
       "    <tr>\n",
       "      <th>0</th>\n",
       "      <td>a</td>\n",
       "      <td>one</td>\n",
       "      <td>1.267266</td>\n",
       "      <td>-0.254217</td>\n",
       "    </tr>\n",
       "    <tr>\n",
       "      <th>1</th>\n",
       "      <td>a</td>\n",
       "      <td>two</td>\n",
       "      <td>2.697491</td>\n",
       "      <td>-0.865592</td>\n",
       "    </tr>\n",
       "    <tr>\n",
       "      <th>2</th>\n",
       "      <td>b</td>\n",
       "      <td>one</td>\n",
       "      <td>-2.177184</td>\n",
       "      <td>1.285283</td>\n",
       "    </tr>\n",
       "    <tr>\n",
       "      <th>3</th>\n",
       "      <td>b</td>\n",
       "      <td>two</td>\n",
       "      <td>0.861819</td>\n",
       "      <td>0.223845</td>\n",
       "    </tr>\n",
       "    <tr>\n",
       "      <th>4</th>\n",
       "      <td>a</td>\n",
       "      <td>one</td>\n",
       "      <td>0.024136</td>\n",
       "      <td>0.205877</td>\n",
       "    </tr>\n",
       "  </tbody>\n",
       "</table>\n",
       "</div>"
      ],
      "text/plain": [
       "  key1 key2     data1     data2\n",
       "0    a  one  1.267266 -0.254217\n",
       "1    a  two  2.697491 -0.865592\n",
       "2    b  one -2.177184  1.285283\n",
       "3    b  two  0.861819  0.223845\n",
       "4    a  one  0.024136  0.205877"
      ]
     },
     "execution_count": 9,
     "metadata": {},
     "output_type": "execute_result"
    },
    {
     "name": "stdout",
     "output_type": "stream",
     "text": [
      "원래 데이터\n"
     ]
    },
    {
     "data": {
      "text/plain": [
       "key1\n",
       "a    2.411446\n",
       "b    0.557919\n",
       "Name: data1, dtype: float64"
      ]
     },
     "execution_count": 9,
     "metadata": {},
     "output_type": "execute_result"
    }
   ],
   "source": [
    "df\n",
    "print('원래 데이터')\n",
    "\n",
    "grouped = df.groupby('key1')\n",
    "\n",
    "grouped['data1'].quantile(0.9)"
   ]
  },
  {
   "cell_type": "markdown",
   "metadata": {},
   "source": [
    "## 자신만의 데이터 집계함수 사용 \n",
    "- 배열의 aggregate나 agg 메서드에 해당 함수 넘기기"
   ]
  },
  {
   "cell_type": "code",
   "execution_count": 10,
   "metadata": {},
   "outputs": [
    {
     "data": {
      "text/html": [
       "<div>\n",
       "<style scoped>\n",
       "    .dataframe tbody tr th:only-of-type {\n",
       "        vertical-align: middle;\n",
       "    }\n",
       "\n",
       "    .dataframe tbody tr th {\n",
       "        vertical-align: top;\n",
       "    }\n",
       "\n",
       "    .dataframe thead th {\n",
       "        text-align: right;\n",
       "    }\n",
       "</style>\n",
       "<table border=\"1\" class=\"dataframe\">\n",
       "  <thead>\n",
       "    <tr style=\"text-align: right;\">\n",
       "      <th></th>\n",
       "      <th>data1</th>\n",
       "      <th>data2</th>\n",
       "    </tr>\n",
       "    <tr>\n",
       "      <th>key1</th>\n",
       "      <th></th>\n",
       "      <th></th>\n",
       "    </tr>\n",
       "  </thead>\n",
       "  <tbody>\n",
       "    <tr>\n",
       "      <th>a</th>\n",
       "      <td>2.673355</td>\n",
       "      <td>1.071469</td>\n",
       "    </tr>\n",
       "    <tr>\n",
       "      <th>b</th>\n",
       "      <td>3.039004</td>\n",
       "      <td>1.061438</td>\n",
       "    </tr>\n",
       "  </tbody>\n",
       "</table>\n",
       "</div>"
      ],
      "text/plain": [
       "         data1     data2\n",
       "key1                    \n",
       "a     2.673355  1.071469\n",
       "b     3.039004  1.061438"
      ]
     },
     "execution_count": 10,
     "metadata": {},
     "output_type": "execute_result"
    },
    {
     "data": {
      "text/html": [
       "<div>\n",
       "<style scoped>\n",
       "    .dataframe tbody tr th:only-of-type {\n",
       "        vertical-align: middle;\n",
       "    }\n",
       "\n",
       "    .dataframe tbody tr th {\n",
       "        vertical-align: top;\n",
       "    }\n",
       "\n",
       "    .dataframe thead th {\n",
       "        text-align: right;\n",
       "    }\n",
       "</style>\n",
       "<table border=\"1\" class=\"dataframe\">\n",
       "  <thead>\n",
       "    <tr style=\"text-align: right;\">\n",
       "      <th></th>\n",
       "      <th>data1</th>\n",
       "      <th>data2</th>\n",
       "    </tr>\n",
       "    <tr>\n",
       "      <th>key1</th>\n",
       "      <th></th>\n",
       "      <th></th>\n",
       "    </tr>\n",
       "  </thead>\n",
       "  <tbody>\n",
       "    <tr>\n",
       "      <th>a</th>\n",
       "      <td>1.329631</td>\n",
       "      <td>-0.304644</td>\n",
       "    </tr>\n",
       "    <tr>\n",
       "      <th>b</th>\n",
       "      <td>-0.657682</td>\n",
       "      <td>0.754564</td>\n",
       "    </tr>\n",
       "  </tbody>\n",
       "</table>\n",
       "</div>"
      ],
      "text/plain": [
       "         data1     data2\n",
       "key1                    \n",
       "a     1.329631 -0.304644\n",
       "b    -0.657682  0.754564"
      ]
     },
     "execution_count": 10,
     "metadata": {},
     "output_type": "execute_result"
    }
   ],
   "source": [
    "# 최대에서 최소빼기\n",
    "def max_sub_min(arr):\n",
    "    return arr.max() - arr.min()\n",
    "\n",
    "# agg 함수 - 사용자정의함수\n",
    "grouped.agg(max_sub_min)\n",
    "\n",
    "# aggregate 함수 - mean\n",
    "grouped.aggregate('mean')"
   ]
  },
  {
   "cell_type": "markdown",
   "metadata": {},
   "source": [
    "## map함수, apply 함수, applymap 함수\n",
    "\n",
    "### 1. map함수 \n",
    "- DataFrame이 아닌 Series 타입에서만 사용 가능.\n",
    "    - Sereis란 = 인덱스(index) + 값(value)\n",
    "\n",
    "### 2. apply함수\n",
    "- apply함수는 Series 객체에서도 사용가능하고, DataFrame 객체에서도 사용가능하다는 \n",
    "- **apply 함수는 DataFrame의 행/열 기반으로 작동 / applymap은 DataFrame에서 요소별로 작동**\n",
    "- **가장 일반적인 GroupBy 메서드의 목적. apply 하기 위해서**\n",
    "\n",
    " \n",
    "### 3. applymap 함수\n",
    "- DataFrame에서 요소별로 작동함\n",
    "\n",
    "### 요약\n",
    "- map은 Series형에서의 각각의 데이터에 대한 접근.\n",
    "- apply가 DataFrame의 행, 열에 대한 함수 적용 결과\n",
    "- applymap DataFrame에 접근하되 각각의 데이터에 접근\n"
   ]
  },
  {
   "cell_type": "code",
   "execution_count": 11,
   "metadata": {},
   "outputs": [
    {
     "data": {
      "text/html": [
       "<div>\n",
       "<style scoped>\n",
       "    .dataframe tbody tr th:only-of-type {\n",
       "        vertical-align: middle;\n",
       "    }\n",
       "\n",
       "    .dataframe tbody tr th {\n",
       "        vertical-align: top;\n",
       "    }\n",
       "\n",
       "    .dataframe thead th {\n",
       "        text-align: right;\n",
       "    }\n",
       "</style>\n",
       "<table border=\"1\" class=\"dataframe\">\n",
       "  <thead>\n",
       "    <tr style=\"text-align: right;\">\n",
       "      <th></th>\n",
       "      <th>b</th>\n",
       "      <th>d</th>\n",
       "      <th>e</th>\n",
       "    </tr>\n",
       "  </thead>\n",
       "  <tbody>\n",
       "    <tr>\n",
       "      <th>Utah</th>\n",
       "      <td>0.164546</td>\n",
       "      <td>0.042872</td>\n",
       "      <td>-0.148056</td>\n",
       "    </tr>\n",
       "    <tr>\n",
       "      <th>Ohio</th>\n",
       "      <td>-1.821897</td>\n",
       "      <td>-0.712336</td>\n",
       "      <td>-0.607178</td>\n",
       "    </tr>\n",
       "    <tr>\n",
       "      <th>Texas</th>\n",
       "      <td>1.700927</td>\n",
       "      <td>0.067268</td>\n",
       "      <td>1.148575</td>\n",
       "    </tr>\n",
       "    <tr>\n",
       "      <th>Oregon</th>\n",
       "      <td>-0.148342</td>\n",
       "      <td>1.781940</td>\n",
       "      <td>-0.936732</td>\n",
       "    </tr>\n",
       "  </tbody>\n",
       "</table>\n",
       "</div>"
      ],
      "text/plain": [
       "               b         d         e\n",
       "Utah    0.164546  0.042872 -0.148056\n",
       "Ohio   -1.821897 -0.712336 -0.607178\n",
       "Texas   1.700927  0.067268  1.148575\n",
       "Oregon -0.148342  1.781940 -0.936732"
      ]
     },
     "execution_count": 11,
     "metadata": {},
     "output_type": "execute_result"
    },
    {
     "data": {
      "text/plain": [
       "Utah      -0.15\n",
       "Ohio      -0.61\n",
       "Texas      1.15\n",
       "Oregon    -0.94\n",
       "Name: e, dtype: object"
      ]
     },
     "execution_count": 11,
     "metadata": {},
     "output_type": "execute_result"
    }
   ],
   "source": [
    "### map 함수는 Series 형에대해서만 적용 가능.\n",
    "\n",
    "frame = pd.DataFrame(np.random.randn(4, 3), \n",
    "                  columns=list('bde'), \n",
    "                  index=['Utah', 'Ohio', 'Texas', 'Oregon'])\n",
    "frame\n",
    "\n",
    "f_map = lambda x: '%.2f' % x\n",
    "\n",
    "# series라 작동가능\n",
    "frame['e'].map(f_map)\n"
   ]
  },
  {
   "cell_type": "code",
   "execution_count": 12,
   "metadata": {},
   "outputs": [
    {
     "data": {
      "text/html": [
       "<div>\n",
       "<style scoped>\n",
       "    .dataframe tbody tr th:only-of-type {\n",
       "        vertical-align: middle;\n",
       "    }\n",
       "\n",
       "    .dataframe tbody tr th {\n",
       "        vertical-align: top;\n",
       "    }\n",
       "\n",
       "    .dataframe thead th {\n",
       "        text-align: right;\n",
       "    }\n",
       "</style>\n",
       "<table border=\"1\" class=\"dataframe\">\n",
       "  <thead>\n",
       "    <tr style=\"text-align: right;\">\n",
       "      <th></th>\n",
       "      <th>b</th>\n",
       "      <th>d</th>\n",
       "      <th>e</th>\n",
       "    </tr>\n",
       "  </thead>\n",
       "  <tbody>\n",
       "    <tr>\n",
       "      <th>Utah</th>\n",
       "      <td>0.164546</td>\n",
       "      <td>0.042872</td>\n",
       "      <td>-0.148056</td>\n",
       "    </tr>\n",
       "    <tr>\n",
       "      <th>Ohio</th>\n",
       "      <td>-1.821897</td>\n",
       "      <td>-0.712336</td>\n",
       "      <td>-0.607178</td>\n",
       "    </tr>\n",
       "    <tr>\n",
       "      <th>Texas</th>\n",
       "      <td>1.700927</td>\n",
       "      <td>0.067268</td>\n",
       "      <td>1.148575</td>\n",
       "    </tr>\n",
       "    <tr>\n",
       "      <th>Oregon</th>\n",
       "      <td>-0.148342</td>\n",
       "      <td>1.781940</td>\n",
       "      <td>-0.936732</td>\n",
       "    </tr>\n",
       "  </tbody>\n",
       "</table>\n",
       "</div>"
      ],
      "text/plain": [
       "               b         d         e\n",
       "Utah    0.164546  0.042872 -0.148056\n",
       "Ohio   -1.821897 -0.712336 -0.607178\n",
       "Texas   1.700927  0.067268  1.148575\n",
       "Oregon -0.148342  1.781940 -0.936732"
      ]
     },
     "execution_count": 12,
     "metadata": {},
     "output_type": "execute_result"
    },
    {
     "data": {
      "text/plain": [
       "b    3.522824\n",
       "d    2.494276\n",
       "e    2.085308\n",
       "dtype: float64"
      ]
     },
     "execution_count": 12,
     "metadata": {},
     "output_type": "execute_result"
    },
    {
     "data": {
      "text/plain": [
       "Utah      0.312602\n",
       "Ohio      1.214718\n",
       "Texas     1.633659\n",
       "Oregon    2.718672\n",
       "dtype: float64"
      ]
     },
     "execution_count": 12,
     "metadata": {},
     "output_type": "execute_result"
    }
   ],
   "source": [
    "### apply 함수\n",
    "frame\n",
    "\n",
    "# f 함수 정의\n",
    "f_apply = lambda x: x.max() - x.min()\n",
    "\n",
    "# 세로 열에 대해 f함수\n",
    "frame.apply(f_apply, axis=0) \n",
    "\n",
    "# 가로 행에 대해 f함수\n",
    "frame.apply(f_apply, axis=1) \n"
   ]
  },
  {
   "cell_type": "code",
   "execution_count": 13,
   "metadata": {},
   "outputs": [
    {
     "data": {
      "text/html": [
       "<div>\n",
       "<style scoped>\n",
       "    .dataframe tbody tr th:only-of-type {\n",
       "        vertical-align: middle;\n",
       "    }\n",
       "\n",
       "    .dataframe tbody tr th {\n",
       "        vertical-align: top;\n",
       "    }\n",
       "\n",
       "    .dataframe thead th {\n",
       "        text-align: right;\n",
       "    }\n",
       "</style>\n",
       "<table border=\"1\" class=\"dataframe\">\n",
       "  <thead>\n",
       "    <tr style=\"text-align: right;\">\n",
       "      <th></th>\n",
       "      <th>b</th>\n",
       "      <th>d</th>\n",
       "      <th>e</th>\n",
       "    </tr>\n",
       "  </thead>\n",
       "  <tbody>\n",
       "    <tr>\n",
       "      <th>Utah</th>\n",
       "      <td>0.164546</td>\n",
       "      <td>0.042872</td>\n",
       "      <td>-0.148056</td>\n",
       "    </tr>\n",
       "    <tr>\n",
       "      <th>Ohio</th>\n",
       "      <td>-1.821897</td>\n",
       "      <td>-0.712336</td>\n",
       "      <td>-0.607178</td>\n",
       "    </tr>\n",
       "    <tr>\n",
       "      <th>Texas</th>\n",
       "      <td>1.700927</td>\n",
       "      <td>0.067268</td>\n",
       "      <td>1.148575</td>\n",
       "    </tr>\n",
       "    <tr>\n",
       "      <th>Oregon</th>\n",
       "      <td>-0.148342</td>\n",
       "      <td>1.781940</td>\n",
       "      <td>-0.936732</td>\n",
       "    </tr>\n",
       "  </tbody>\n",
       "</table>\n",
       "</div>"
      ],
      "text/plain": [
       "               b         d         e\n",
       "Utah    0.164546  0.042872 -0.148056\n",
       "Ohio   -1.821897 -0.712336 -0.607178\n",
       "Texas   1.700927  0.067268  1.148575\n",
       "Oregon -0.148342  1.781940 -0.936732"
      ]
     },
     "execution_count": 13,
     "metadata": {},
     "output_type": "execute_result"
    },
    {
     "data": {
      "text/html": [
       "<div>\n",
       "<style scoped>\n",
       "    .dataframe tbody tr th:only-of-type {\n",
       "        vertical-align: middle;\n",
       "    }\n",
       "\n",
       "    .dataframe tbody tr th {\n",
       "        vertical-align: top;\n",
       "    }\n",
       "\n",
       "    .dataframe thead th {\n",
       "        text-align: right;\n",
       "    }\n",
       "</style>\n",
       "<table border=\"1\" class=\"dataframe\">\n",
       "  <thead>\n",
       "    <tr style=\"text-align: right;\">\n",
       "      <th></th>\n",
       "      <th>b</th>\n",
       "      <th>d</th>\n",
       "      <th>e</th>\n",
       "    </tr>\n",
       "  </thead>\n",
       "  <tbody>\n",
       "    <tr>\n",
       "      <th>Utah</th>\n",
       "      <td>0.165</td>\n",
       "      <td>0.043</td>\n",
       "      <td>-0.148</td>\n",
       "    </tr>\n",
       "    <tr>\n",
       "      <th>Ohio</th>\n",
       "      <td>-1.822</td>\n",
       "      <td>-0.712</td>\n",
       "      <td>-0.607</td>\n",
       "    </tr>\n",
       "    <tr>\n",
       "      <th>Texas</th>\n",
       "      <td>1.701</td>\n",
       "      <td>0.067</td>\n",
       "      <td>1.149</td>\n",
       "    </tr>\n",
       "    <tr>\n",
       "      <th>Oregon</th>\n",
       "      <td>-0.148</td>\n",
       "      <td>1.782</td>\n",
       "      <td>-0.937</td>\n",
       "    </tr>\n",
       "  </tbody>\n",
       "</table>\n",
       "</div>"
      ],
      "text/plain": [
       "             b       d       e\n",
       "Utah     0.165   0.043  -0.148\n",
       "Ohio    -1.822  -0.712  -0.607\n",
       "Texas    1.701   0.067   1.149\n",
       "Oregon  -0.148   1.782  -0.937"
      ]
     },
     "execution_count": 13,
     "metadata": {},
     "output_type": "execute_result"
    }
   ],
   "source": [
    "### applymap 함수\n",
    "# apply가 DataFrame의 행, 열로 접근, applymap 은 그 각각의 데이터에 접근\n",
    "frame\n",
    "\n",
    "f_applymap = lambda x: '%.3f' % x\n",
    "frame.applymap(f_applymap)"
   ]
  },
  {
   "cell_type": "markdown",
   "metadata": {},
   "source": [
    "## 변위치 분석과 버킷 분석\n",
    "- cut함수와 qcut 메서드 이용. 선택한 크기만큼 표본 변위치에 따라 데이터를 나눔\n",
    "- N등분 및, group apply, unstack"
   ]
  },
  {
   "cell_type": "code",
   "execution_count": 14,
   "metadata": {},
   "outputs": [
    {
     "data": {
      "text/plain": [
       "0        (0.62, 2.166]\n",
       "1        (0.62, 2.166]\n",
       "2     (-2.471, -0.926]\n",
       "3       (-0.926, 0.62]\n",
       "4     (-2.471, -0.926]\n",
       "            ...       \n",
       "95      (-0.926, 0.62]\n",
       "96      (-0.926, 0.62]\n",
       "97      (-0.926, 0.62]\n",
       "98      (-0.926, 0.62]\n",
       "99       (0.62, 2.166]\n",
       "Name: data1, Length: 100, dtype: category\n",
       "Categories (4, interval[float64]): [(-4.023, -2.471] < (-2.471, -0.926] < (-0.926, 0.62] < (0.62, 2.166]]"
      ]
     },
     "execution_count": 14,
     "metadata": {},
     "output_type": "execute_result"
    }
   ],
   "source": [
    "frame2 = pd.DataFrame({'data1':np.random.randn(100),\n",
    "                       'data2':np.random.randn(100)})\n",
    "\n",
    "# 4등분 하기\n",
    "quartiles = pd.cut(frame2.data1, 4)\n",
    "quartiles"
   ]
  },
  {
   "cell_type": "code",
   "execution_count": 15,
   "metadata": {},
   "outputs": [
    {
     "data": {
      "text/plain": [
       "data1\n",
       "(-4.023, -2.471]   -0.118484\n",
       "(-2.471, -0.926]   -0.026854\n",
       "(-0.926, 0.62]      0.016675\n",
       "(0.62, 2.166]       0.191457\n",
       "Name: data2, dtype: float64"
      ]
     },
     "execution_count": 15,
     "metadata": {},
     "output_type": "execute_result"
    },
    {
     "data": {
      "text/plain": [
       "data1                  \n",
       "(-4.023, -2.471]  min      -0.421797\n",
       "                  max       0.184829\n",
       "                  count     2.000000\n",
       "                  mean     -0.118484\n",
       "(-2.471, -0.926]  min      -1.157092\n",
       "                  max       1.406712\n",
       "                  count    22.000000\n",
       "                  mean     -0.026854\n",
       "(-0.926, 0.62]    min      -1.925883\n",
       "                  max       1.791961\n",
       "                  count    50.000000\n",
       "                  mean      0.016675\n",
       "(0.62, 2.166]     min      -1.313934\n",
       "                  max       2.221130\n",
       "                  count    26.000000\n",
       "                  mean      0.191457\n",
       "Name: data2, dtype: float64"
      ]
     },
     "execution_count": 15,
     "metadata": {},
     "output_type": "execute_result"
    },
    {
     "data": {
      "text/html": [
       "<div>\n",
       "<style scoped>\n",
       "    .dataframe tbody tr th:only-of-type {\n",
       "        vertical-align: middle;\n",
       "    }\n",
       "\n",
       "    .dataframe tbody tr th {\n",
       "        vertical-align: top;\n",
       "    }\n",
       "\n",
       "    .dataframe thead th {\n",
       "        text-align: right;\n",
       "    }\n",
       "</style>\n",
       "<table border=\"1\" class=\"dataframe\">\n",
       "  <thead>\n",
       "    <tr style=\"text-align: right;\">\n",
       "      <th></th>\n",
       "      <th>min</th>\n",
       "      <th>max</th>\n",
       "      <th>count</th>\n",
       "      <th>mean</th>\n",
       "    </tr>\n",
       "    <tr>\n",
       "      <th>data1</th>\n",
       "      <th></th>\n",
       "      <th></th>\n",
       "      <th></th>\n",
       "      <th></th>\n",
       "    </tr>\n",
       "  </thead>\n",
       "  <tbody>\n",
       "    <tr>\n",
       "      <th>(-4.023, -2.471]</th>\n",
       "      <td>-0.421797</td>\n",
       "      <td>0.184829</td>\n",
       "      <td>2.0</td>\n",
       "      <td>-0.118484</td>\n",
       "    </tr>\n",
       "    <tr>\n",
       "      <th>(-2.471, -0.926]</th>\n",
       "      <td>-1.157092</td>\n",
       "      <td>1.406712</td>\n",
       "      <td>22.0</td>\n",
       "      <td>-0.026854</td>\n",
       "    </tr>\n",
       "    <tr>\n",
       "      <th>(-0.926, 0.62]</th>\n",
       "      <td>-1.925883</td>\n",
       "      <td>1.791961</td>\n",
       "      <td>50.0</td>\n",
       "      <td>0.016675</td>\n",
       "    </tr>\n",
       "    <tr>\n",
       "      <th>(0.62, 2.166]</th>\n",
       "      <td>-1.313934</td>\n",
       "      <td>2.221130</td>\n",
       "      <td>26.0</td>\n",
       "      <td>0.191457</td>\n",
       "    </tr>\n",
       "  </tbody>\n",
       "</table>\n",
       "</div>"
      ],
      "text/plain": [
       "                       min       max  count      mean\n",
       "data1                                                \n",
       "(-4.023, -2.471] -0.421797  0.184829    2.0 -0.118484\n",
       "(-2.471, -0.926] -1.157092  1.406712   22.0 -0.026854\n",
       "(-0.926, 0.62]   -1.925883  1.791961   50.0  0.016675\n",
       "(0.62, 2.166]    -1.313934  2.221130   26.0  0.191457"
      ]
     },
     "execution_count": 15,
     "metadata": {},
     "output_type": "execute_result"
    }
   ],
   "source": [
    "# 4등분 groupby 결과\n",
    "grouped = frame2.data2.groupby(quartiles)\n",
    "grouped.mean()\n",
    "\n",
    "# min, max, count, mean 구해서 리턴\n",
    "def get_stats(group):\n",
    "    return {'min':group.min(), 'max':group.max(),\n",
    "             'count':group.count(), 'mean':group.mean()}\n",
    "\n",
    "grouped_all = grouped.apply(get_stats)\n",
    "grouped_all\n",
    "\n",
    "# unstack 으로 group형 풀기\n",
    "grouped_all.unstack()"
   ]
  }
 ],
 "metadata": {
  "kernelspec": {
   "display_name": "Python 3",
   "language": "python",
   "name": "python3"
  },
  "language_info": {
   "codemirror_mode": {
    "name": "ipython",
    "version": 3
   },
   "file_extension": ".py",
   "mimetype": "text/x-python",
   "name": "python",
   "nbconvert_exporter": "python",
   "pygments_lexer": "ipython3",
   "version": "3.7.5"
  }
 },
 "nbformat": 4,
 "nbformat_minor": 4
}
